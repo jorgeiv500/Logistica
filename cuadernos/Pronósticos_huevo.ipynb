{
  "nbformat": 4,
  "nbformat_minor": 0,
  "metadata": {
    "colab": {
      "name": "Pronósticos_huevo.ipynb",
      "provenance": []
    },
    "kernelspec": {
      "name": "python3",
      "display_name": "Python 3"
    }
  },
  "cells": [
    {
      "cell_type": "markdown",
      "metadata": {
        "id": "8a8Fp6gRbCQx"
      },
      "source": [
        "# Caso precio huevo rojo extra\n",
        "Profesores:  Jorge Romero\n",
        "\n",
        "<img src=\"https://estaticos.muyinteresante.es/media/cache/1140x_thumb/uploads/images/article/5536592a70a1ae8d775df122/huevos_1.jpg\" alt=\"\" width=\"25%\" height=\"10%\">\n",
        "\n",
        "*   Son necesarios para planeación a futuro.\n",
        "*   Casi siempre se equivocan.\n",
        "*   Debemos calcular su nivel de error.\n",
        "\n",
        "<img src=\"https://media0.giphy.com/media/3o6Mb8HJCu3g3qXIGY/giphy.gif?cid=ecf05e47uvgtjfrmyvthcbarh60yq5w9uu3oq0t0g91c2eh1&rid=giphy.gif\" alt=\"\" width=\"40%\" height=\"10%\">\n",
        "\n",
        "\n",
        "## Comencemos con un conjunto de datos de precios historicos de huevos:\n",
        "<img src=\"https://fenavi.org/wp-content/uploads/2018/02/logofenavi.png\" alt=\"\" width=\"15%\" height=\"15%\">\n",
        "\n",
        "https://drive.google.com/file/d/1zfk1BmJ8epeVDILeir4OfpXW8e_kpITB/view?usp=sharing\n",
        "\n",
        "Probemos importar desde internet los históricos de huevo rojo extra en colombia precio mayorista:\n",
        "\n",
        "```python\n",
        "import numpy as np\n",
        "import pandas as pd\n",
        "import matplotlib.pyplot as plt\n",
        "import datetime\n",
        "URL = 'https://drive.google.com/file/d/1aE6xob2J727VqdzEMTKYZs2dzjBAqZxq/view?usp=sharing'\n",
        "path = 'https://drive.google.com/uc?export=download&id='+URL.split('/')[-2]\n",
        "df = pd.read_csv(path, ',')\n",
        "df.head()\n",
        "``` \n",
        "## Copie a continuacion:"
      ]
    },
    {
      "cell_type": "code",
      "metadata": {
        "id": "TnDqvSD5mb47"
      },
      "source": [
        ""
      ],
      "execution_count": 27,
      "outputs": []
    },
    {
      "cell_type": "markdown",
      "metadata": {
        "id": "AAGSh28LbENc"
      },
      "source": [
        "Ahora Grafiquemos los precios:\n",
        "\n",
        "<img src=\"https://media1.giphy.com/media/3o6MbaIqtYEHYWtJ5u/giphy.gif?cid=ecf05e47eazvdzilnau4udei9pe1sdckeonahbkkfxv7iqw7&rid=giphy.gif\" alt=\"\" width=\"50%\" height=\"25%\">\n",
        "\n",
        "\n",
        "```python\n",
        "# Imprime la serie de tiempo\n",
        "f, ax = plt.subplots(1,1)\n",
        "ax.plot(df['y'])\n",
        "# Agrega titulo\n",
        "ax.set_title('Casos diarios')\n",
        "# Etiquetas ejes\n",
        "ax.tick_params(axis = 'x', rotation = 45)\n",
        "plt.xlabel('dias')\n",
        "plt.ylabel('Casos')\n",
        "# Muestra grafica\n",
        "plt.show()\n",
        "plt.close()\n",
        "```\n",
        "\n",
        "Pruebe debajo!!!:"
      ]
    },
    {
      "cell_type": "code",
      "metadata": {
        "id": "9TXa8m0nkHsq"
      },
      "source": [
        ""
      ],
      "execution_count": 27,
      "outputs": []
    },
    {
      "cell_type": "markdown",
      "metadata": {
        "id": "igko6qNNlQv8"
      },
      "source": [
        "___________________________________\n",
        "\n",
        "# Pronosticos con FB- Prophet\n",
        "\n",
        "Prophet es un procedimiento para pronosticar datos de series temporales basados en un modelo aditivo en el que las tendencias no lineales se ajustan a la estacionalidad anual, semanal y diaria, más los efectos de vacaciones. Funciona mejor con series de tiempo que tienen fuertes efectos estacionales y varias temporadas de datos históricos. Prophet es robusto ante los datos faltantes y los cambios en la tendencia, y generalmente maneja bien los valores atípicos.\n",
        "\n",
        "## **Paso 1:** Funcion para calcular el tiempo\n",
        "```python\n",
        "from fbprophet import Prophet\n",
        "import datetime\n",
        "from datetime import datetime\n",
        "\n",
        "def days_between(d1, d2):\n",
        "    d1 = datetime.strptime(d1, \"%Y-%m-%d\")\n",
        "    d2 = datetime.strptime(d2, \"%Y-%m-%d\")\n",
        "    return abs((d2 - d1).days + 1)\n",
        "\n",
        "```\n",
        "_______________________________________\n",
        "\n"
      ]
    },
    {
      "cell_type": "code",
      "metadata": {
        "id": "C-pE7uQTkpnz"
      },
      "source": [
        ""
      ],
      "execution_count": 27,
      "outputs": []
    },
    {
      "cell_type": "markdown",
      "metadata": {
        "id": "ZH8xwJBepRu7"
      },
      "source": [
        "## **Paso 2:** Agregar condiciones\n",
        "```python\n",
        "date_column = 'dt'\n",
        "metric_column = 'ts'\n",
        "start_training_date = '2017-01-01'\n",
        "end_training_date = '2020-01-01'\n",
        "start_forecasting_date = '2020-02-01'\n",
        "end_forecasting_date = '2020-09-01'\n",
        "year_to_estimate = '2020'\n",
        "future_num_points = days_between(start_forecasting_date, end_forecasting_date)\n",
        "cap = None \n",
        "growth = 'linear'\n",
        "n_changepoints = 25 \n",
        "changepoint_prior_scale = 0.05 \n",
        "changepoints = None \n",
        "holidays_prior_scale = 10 \n",
        "interval_width = 0.8 \n",
        "mcmc_samples = 0\n",
        "holidays = None\n",
        "daily_seasonality = False\n",
        "yearly_seasonality = True\n",
        "\n",
        "  ```\n",
        "_________________________________"
      ]
    },
    {
      "cell_type": "code",
      "metadata": {
        "id": "xTTOYNoylfq1"
      },
      "source": [
        ""
      ],
      "execution_count": 27,
      "outputs": []
    },
    {
      "cell_type": "markdown",
      "metadata": {
        "id": "YeQW76r5pWLw"
      },
      "source": [
        "## **Paso 3:** Crear funcion de pronostico\n",
        "```python\n",
        "URL = 'https://drive.google.com/file/d/1aE6xob2J727VqdzEMTKYZs2dzjBAqZxq/view?usp=sharing'\n",
        "path = 'https://drive.google.com/uc?export=download&id='+URL.split('/')[-2]\n",
        "df = pd.read_csv(path, ',')\n",
        "df_prophet=df\n",
        "def create_daily_forecast(df,\n",
        "#                           cap,\n",
        "                          holidays,\n",
        "                          growth,\n",
        "                          n_changepoints = 25,\n",
        "                          changepoint_prior_scale = 0.05,\n",
        "                          changepoints = None,\n",
        "                          holidays_prior_scale = 10,\n",
        "                          interval_width = 0.8,\n",
        "                          mcmc_samples = 1,\n",
        "                          future_num_points = 10, \n",
        "                          daily_seasonality = False,\n",
        "                          yearly_seasonality = True):\n",
        "  \"\"\"\n",
        "  Crear el pronostico\n",
        "  \"\"\"\n",
        "  df_ = df.copy()\n",
        "  m = Prophet(growth = growth,\n",
        "              n_changepoints = n_changepoints,\n",
        "              changepoint_prior_scale = changepoint_prior_scale,\n",
        "              changepoints = changepoints,\n",
        "              holidays = holidays,\n",
        "              holidays_prior_scale = holidays_prior_scale,\n",
        "              interval_width = interval_width,\n",
        "              mcmc_samples = mcmc_samples, \n",
        "              daily_seasonality = daily_seasonality,\n",
        "              yearly_seasonality= yearly_seasonality)\n",
        "  m.fit(df_)\n",
        "  future = m.make_future_dataframe(5,freq='MS')\n",
        "  fcst = m.predict(future)\n",
        "  m.plot(fcst);\n",
        "  m.plot_components(fcst)\n",
        " \n",
        "  return fcst\n",
        "  ```\n",
        "  _____________________________________"
      ]
    },
    {
      "cell_type": "code",
      "metadata": {
        "id": "35W6MR9ypdqx"
      },
      "source": [
        ""
      ],
      "execution_count": 27,
      "outputs": []
    },
    {
      "cell_type": "markdown",
      "metadata": {
        "id": "RK0nf1i5sdEq"
      },
      "source": [
        "## Paso 4 Correr el pronostico\n",
        "```python\n",
        "fcst = create_daily_forecast(df_prophet,\n",
        "                             holidays,\n",
        "                             growth,\n",
        "                             n_changepoints,\n",
        "                             changepoint_prior_scale,\n",
        "                             changepoints, \n",
        "                             holidays_prior_scale,\n",
        "                             interval_width,\n",
        "                             mcmc_samples,\n",
        "                             future_num_points, \n",
        "                             daily_seasonality,\n",
        "                             yearly_seasonality)\n",
        "```\n",
        "______________________________"
      ]
    },
    {
      "cell_type": "code",
      "metadata": {
        "id": "ZGym-gPNqCs0"
      },
      "source": [
        ""
      ],
      "execution_count": 27,
      "outputs": []
    },
    {
      "cell_type": "markdown",
      "metadata": {
        "id": "RV0mKlIPwrbE"
      },
      "source": [
        "## Finalmente calculemos el error estadistico:\n",
        "```python\n",
        "def calculate_mape(y_true, y_pred):\n",
        "    \"\"\" Calculate mean absolute percentage error (MAPE)\"\"\"\n",
        "    return np.mean(np.abs((y_true - y_pred) / y_true)) * 100\n",
        "\n",
        "def calculate_mpe(y_true, y_pred):\n",
        "    \"\"\" Calculate mean percentage error (MPE)\"\"\"\n",
        "    return np.mean((y_true - y_pred) / y_true) * 100\n",
        "\n",
        "def calculate_mae(y_true, y_pred):\n",
        "    \"\"\" Calculate mean absolute error (MAE)\"\"\"\n",
        "    return np.mean(np.abs(y_true - y_pred)) * 100\n",
        "\n",
        "def calculate_rmse(y_true, y_pred):\n",
        "    \"\"\" Calculate root mean square error (RMSE)\"\"\"\n",
        "    return np.sqrt(np.mean((y_true - y_pred)**2))\n",
        "\n",
        "def print_error_metrics(y_true, y_pred):\n",
        "    print('MAPE: %f'%calculate_mape(y_true, y_pred))\n",
        "    print('MPE: %f'%calculate_mpe(y_true, y_pred))\n",
        "    print('MAE: %f'%calculate_mae(y_true, y_pred))\n",
        "    print('RMSE: %f'%calculate_rmse(y_true, y_pred))\n",
        "    return\n",
        "    \n",
        "    print_error_metrics(y_true = df_prophet['y'], y_pred = fcst['yhat'])\n",
        "```"
      ]
    },
    {
      "cell_type": "code",
      "metadata": {
        "id": "i6pEKogVqZ72"
      },
      "source": [
        "def calculate_mape(y_true, y_pred):\n",
        "    \"\"\" Calculate mean absolute percentage error (MAPE)\"\"\"\n",
        "    return np.mean(np.abs((y_true - y_pred) / y_true)) * 100\n",
        " \n",
        "def calculate_mpe(y_true, y_pred):\n",
        "    \"\"\" Calculate mean percentage error (MPE)\"\"\"\n",
        "    return np.mean((y_true - y_pred) / y_true) * 100\n",
        " \n",
        "def calculate_mae(y_true, y_pred):\n",
        "    \"\"\" Calculate mean absolute error (MAE)\"\"\"\n",
        "    return np.mean(np.abs(y_true - y_pred)) * 100\n",
        " \n",
        "def calculate_rmse(y_true, y_pred):\n",
        "    \"\"\" Calculate root mean square error (RMSE)\"\"\"\n",
        "    return np.sqrt(np.mean((y_true - y_pred)**2))\n",
        " \n",
        "def print_error_metrics(y_true, y_pred):\n",
        "    print('MAPE: %f'%calculate_mape(y_true, y_pred))\n",
        "    print('MPE: %f'%calculate_mpe(y_true, y_pred))\n",
        "    print('MAE: %f'%calculate_mae(y_true, y_pred))\n",
        "    print('RMSE: %f'%calculate_rmse(y_true, y_pred))\n",
        "    return\n",
        " \n",
        "    print_error_metrics(y_true = df_prophet['y'], y_pred = fcst['yhat'])"
      ],
      "execution_count": 25,
      "outputs": []
    },
    {
      "cell_type": "code",
      "metadata": {
        "id": "I_EF46VrIQ-F",
        "outputId": "63d58502-6386-4b06-ff2f-04dfd11dbdcc",
        "colab": {
          "base_uri": "https://localhost:8080/",
          "height": 85
        }
      },
      "source": [
        " print_error_metrics(y_true = df_prophet['y'], y_pred = fcst['yhat'])"
      ],
      "execution_count": 20,
      "outputs": [
        {
          "output_type": "stream",
          "text": [
            "MAPE: 0.995160\n",
            "MPE: -0.019502\n",
            "MAE: 324.940726\n",
            "RMSE: 4.010057\n"
          ],
          "name": "stdout"
        }
      ]
    },
    {
      "cell_type": "code",
      "metadata": {
        "id": "T8PbdCW_IRz9"
      },
      "source": [
        ""
      ],
      "execution_count": null,
      "outputs": []
    }
  ]
}