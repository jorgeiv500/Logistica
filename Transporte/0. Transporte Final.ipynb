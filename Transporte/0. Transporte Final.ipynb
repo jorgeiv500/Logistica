{
 "cells": [
  {
   "cell_type": "markdown",
   "metadata": {
    "slideshow": {
     "slide_type": "slide"
    }
   },
   "source": [
    "# Transporte y distribución final\n",
    "\n",
    "Una clasificación inicial de los modelos es:\n",
    "\n",
    "- Programación Matemática: Lineal, no lineal, entera y dinamica.\n",
    "- Metaheuristica.\n",
    "\n",
    "---\n",
    "\n",
    "## Modelos Lineales\n",
    "\n",
    "- Modelo de transporte y asignación lineal\n",
    "- Modelo de tranbordo lineal\n",
    "- Modelos de redes de flujo\n",
    "\n"
   ]
  },
  {
   "cell_type": "markdown",
   "metadata": {
    "slideshow": {
     "slide_type": "subslide"
    }
   },
   "source": [
    "## Modelos Lineales\n"
   ]
  },
  {
   "cell_type": "markdown",
   "metadata": {},
   "source": [
    "## GENERALIDADES VRP\n",
    "\n",
    "- Las actividades de entrega de cargas son centrales en la gestión de la cadena de suministro moderna.\n",
    "- Existen dos categorías bien conocidas para abordar el problema del transporte de carga:\n",
    "  - Aquellos relacionados con el transporte de carga de larga distancia.\n",
    "  - Otros asociados con la recogida y entrega de paquetes en distancias cortas [2].\n",
    "- La primera aplicación de problemas de ruteo fue propuesta por Flood [6], y años después, Dantzing ofrece un modelo basado en asignación para el problema de ruteo de vehículos [8].\n",
    "\n",
    "---\n",
    "\n",
    "## GENERALIDADES VRP\n",
    "\n",
    "- El objetivo del problema de ruteo de vehículos es encontrar las mejores rutas para la entrega, minimizando una función de costo lineal sobre un conjunto de nodos o clientes, formando un problema de optimización entera y combinatoria.\n",
    "- Años después, surgieron varias soluciones heurísticas para el problema del VRP, incluyendo ahorros, proximidad, emparejamientos, y mejoras intra-ruta e inter-ruta [9].\n",
    "- El algoritmo de ahorros más prominente es la heurística de Clarke y Wright, debido a su simplicidad y rapidez de implementación [10].\n",
    "\n",
    "---\n",
    "\n",
    "## GENERALIDADES VRP\n",
    "- Los algoritmos de solución exacta aparecen en los ochenta, con trabajos de Chistofides et al., incluyendo una formulación de programación dinámica [11] y una formulación de programación matemática [12].\n",
    "- Laporte et al. proponen un algoritmo VRP basado en la solución de la relajación lineal de un modelo entero [13].\n",
    "- Desde entonces, han aparecido varias formulaciones exactas, pero, en la mayoría de casos, se resuelven por branch-and-cut.\n",
    "- El VRP también puede formularse como un problema de particionamiento [14], [15].\n",
    "\n",
    "---\n",
    "\n",
    "## GENERALIDADES VRP\n",
    "- El desarrollo de heurísticas modernas está relacionado con trabajos en algoritmos basados en búsqueda tabú [16]–[18].\n",
    "- Un VRP popular y extendido es el Problema de Ruteo de Vehículos Multi-Depósito (MDVRP).\n",
    "- El MDVRP muestra soluciones exactas basadas en un proceso de branch-and-bound que solo puede resolver instancias pequeñas [25].\n",
    "- Para resolver el problema MDVRPTW, es necesario asignar un conjunto de necesidades de los clientes a un depósito y luego cubrir todos los nodos (clientes) para construir rutas asignadas al mismo depósito [26].\n",
    "\n",
    "## 3. Modelo Matemático y Métodos de Solución\n",
    "\n",
    "- Se describe la formulación matemática del modelo y se presentan los algoritmos de solución y herramientas para resolver el problema.\n",
    "- El CVRP es la variante más estudiada de todos los problemas de VRP; en CVRP, los pedidos de transporte consisten en la distribución de bienes desde un único depósito a un conjunto dado de otros puntos, típicamente referidos como clientes [3].\n",
    "- Se asume que la flota de vehículos es homogénea, es decir, todos los vehículos tienen la misma capacidad y operan a los mismos costos.\n",
    "- Un vehículo que atiende a un subconjunto de clientes comienza en el depósito, se mueve una vez a cada uno de los clientes en S, y finalmente regresa al depósito.\n",
    "- El costo de viaje incurrido por un vehículo al moverse de i a j se muestra en la Figura 1 como sigue.\n"
   ]
  },
  {
   "cell_type": "code",
   "execution_count": null,
   "metadata": {},
   "outputs": [],
   "source": []
  }
 ],
 "metadata": {
  "kernelspec": {
   "display_name": "Python 3",
   "language": "python",
   "name": "python3"
  },
  "language_info": {
   "codemirror_mode": {
    "name": "ipython",
    "version": 3
   },
   "file_extension": ".py",
   "mimetype": "text/x-python",
   "name": "python",
   "nbconvert_exporter": "python",
   "pygments_lexer": "ipython3",
   "version": "3.9.12"
  }
 },
 "nbformat": 4,
 "nbformat_minor": 2
}
