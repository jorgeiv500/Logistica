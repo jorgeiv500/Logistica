{
 "cells": [
  {
   "attachments": {},
   "cell_type": "markdown",
   "metadata": {},
   "source": [
    "# 2.Problemas de transbordo \n",
    "\n",
    "<div align=\"justify\">\n",
    "Un problema de transporte solo permite envíos que van directamente desde un punto de suministro a un punto de demanda. En muchas situaciones, se permiten envíos entre puntos de suministro o entre puntos de demanda. A veces también puede haber puntos (llamados puntos de transbordo) a través de los cuales los bienes pueden ser transbordados en su viaje desde un punto de suministro a un punto de demanda. Los problemas de envío con cualquiera o todas estas características son problemas de transbordo. \n",
    "</div>\n",
    "\n",
    "* Afortunadamente, la solución óptima para un problema de transbordo se puede encontrar resolviendo un problema de transporte.\n",
    "\n",
    "<div align=\"justify\">\n",
    "A continuación, definimos un punto de suministro como un punto que puede enviar mercancías a otro punto pero no puede recibir mercancías desde ningún otro punto. Del mismo modo, un punto de demanda es un punto que puede recibir mercancías de otros puntos pero no puede enviar mercancías a ningún otro punto. Un punto de transbordo es un punto que puede recibir mercancías de otros puntos y enviar mercancías a otros puntos. El siguiente ejemplo ilustra estas definiciones (\"-\" indica que un envío es imposible).\n",
    "</div>\n",
    "\n",
    "* Widgetco fabrica widgets en dos fábricas, una en Memphis y otra en Denver. La fábrica de Memphis puede producir hasta 150 widgets por día, y la fábrica de Denver puede producir hasta 200 widgets por día. Los widgets se envían por vía aérea a clientes en Los Ángeles y Boston. Los clientes en cada ciudad requieren 130 widgets por día. Debido a la desregulación de las tarifas aéreas, Widgetco cree que puede ser más barato volar primero widgets a Nueva York o Chicago y luego llevarlos a sus destinos finales. Los costos de volar un widget se muestran en la Tabla a continuacion. Widgetco quiere minimizar el costo total de enviar los widgets requeridos a sus clientes.\n",
    "\n",
    "<img src=\"https://github.com/jorgeiv500/Logistica/blob/master/Transporte/trans.png?raw=true\">\n",
    "\n",
    "<img src=\"https://github.com/jorgeiv500/Logistica/blob/master/Transporte/grafo1.png?raw=true\">"
   ]
  },
  {
   "attachments": {},
   "cell_type": "markdown",
   "metadata": {},
   "source": [
    "## 2.1. Problemas lineales de flujo de costo mínimo de un solo producto \n",
    "\n",
    "\n",
    "Minimize\n",
    "\"\n",
    "$\\sum_{a, j, b A, b, b, i j}$\n",
    "subject to\n",
    "$$\n",
    "\\begin{aligned}\n",
    "\\sum_{\\{j \\in V:(i, j) \\in A\\}} x_{i j}-\\sum_{\\{j \\in V:(j, i) \\in A\\}} x_{j i}=&\\left\\{\\begin{array}{ll}\n",
    "o_{i}, & \\text { if } i \\in O \\\\\n",
    "-d_{i}, & \\text { if } i \\in D, \\\\\n",
    "0, & \\text { if } i \\in T\n",
    "\\end{array} \\quad i \\in V\\right.\\\\\n",
    "x_{i j} \\leqslant u_{i j}, &(i, j) \\in A \\\\\n",
    "x_{i j} \\geqslant 0, &(i, j) \\in A\n",
    "\\end{aligned}\n",
    "$$\n",
    "\n",
    "NTN es una compañía intermodal suiza ubicada en Lausana. Cuando un cliente tiene que transportar mercancías entre un origen y un destino, NTN le suministra uno o más contenedores vacíos en los que se pueden cargar las mercancías. Una vez que llegan al destino, las mercancías se descargan y los contenedores vacíos deben transportarse a los puntos de recogida de nuevos clientes. Como resultado, la administración de NTN necesita reasignar los contenedores vacíos periódicamente (en la práctica, semanalmente). El transporte de contenedores vacíos es muy costoso (su costo es casi el 35% del costo operativo total). \n",
    "\n",
    "El pasado 13 de mayo, varios contenedores vacíos de ISO 20 tuvieron que ser reasignados entre los terminales en Amsterdam (Países Bajos), Berlín (Alemania), Munich (Alemania), París (Francia), Milán (Italia), Barcelona (España) y Madrid (España). En la Figura se informa la cantidad de contenedores vacíos disponibles o demandados en las diferentes terminales, junto con los costos de transporte (en euros / contenedor).\n",
    "\n",
    "<img src=\"https://github.com/jorgeiv500/Logistica/blob/master/Transporte/grafo2.png?raw=true\">"
   ]
  },
  {
   "cell_type": "markdown",
   "metadata": {},
   "source": [
    "Minimize\n",
    "$$\n",
    "\\begin{aligned}\n",
    "30 x_{12} &+30 x_{21}+40 x_{13}+40 x_{31}+20 x_{14}+20 x_{41}+30 x_{23}+30 x_{32} \\\\\n",
    "&+55 x_{34}+55 x_{43}+30 x_{35}+30 x_{53}+30 x_{45}+30 x_{54}+50 x_{46} \\\\\n",
    "&+50 x_{64}+70 x_{47}+70 x_{74}+30 x_{56}+30 x_{65}+25 x_{67}+25 x_{76}\n",
    "\\end{aligned}\n",
    "$$\n",
    "subject to\n",
    "$$\n",
    "\\begin{aligned}\n",
    "x_{12}+x_{13}+x_{14}-x_{21}-x_{31}-x_{41} &=-10 \\\\\n",
    "x_{21}+x_{23}-x_{12}-x_{32} &=20 \\\\\n",
    "x_{31}+x_{32}+x_{34}+x_{35}-x_{13}-x_{23}-x_{43}-x_{53} &=50 \\\\\n",
    "x_{41}+x_{43}+x_{45}+x_{46}+x_{47}-x_{14}-x_{34}-x_{54}-x_{64}-x_{74} &=20 \\\\\n",
    "x_{53}+x_{54}+x_{56}-x_{35}-x_{45}-x_{65} &=-50 \\\\\n",
    "x_{64}+x_{65}+x_{67}-x_{46}-x_{56}-x_{76} &=-20 \\\\\n",
    "x_{74}+x_{76}-x_{47}-x_{67} &=-10\n",
    "\\end{aligned}\n",
    "$$\n",
    "$x_{12}, x_{21}, x_{13}, x_{31}, x_{14}, x_{41}, x_{23}, x_{32}, x_{34}, x_{43}, x_{35}$\n",
    "$x_{53}, x_{45}, x_{54}, x_{46}, x_{64}, x_{47}, x_{74}, x_{56}, x_{65}, x_{67}, x_{76} \\geqslant 0$\n",
    "\n"
   ]
  },
  {
   "attachments": {},
   "cell_type": "markdown",
   "metadata": {},
   "source": [
    "## Algoritmo Hungaro\n",
    "El algoritmo Húngaro es un algoritmo de optimización el cual resuelve problemas de asignación en tiempo $ O(n^{3})$. La primera versión conocida del método Húngaro, fue inventado y publicado por Harold W. Kuhn en 1955. Este fue revisado por James Munkres en 1957, y ha sido conocido desde entonces como el algoritmo Húngaro, el algoritmo de la asignación de Munkres, o el algoritmo de Kuhn-Munkres.\n",
    "\n",
    "El algoritmo desarrollado por Kuhn está basado fundamentalmente en los primeros trabajos de otros dos matemáticos Húngaros: Dénes Kőnig y Jenő Egerváry. La gran ventaja del método de Kuhn es que es fuertemente polinómico (ver Complejidad computacional para más detalles).\n",
    "\n",
    "El algoritmo húngaro construye una solución del problema primal partiendo de una solución no admisible (que corresponde a una solución admisible del dual) haciéndola poco a poco más admisible.\n",
    "\n",
    "### Pasos\n",
    "* Marque la fila sin asignacion\n",
    "* Si lafila  marcada tiene un 0 marque la columna correspondiente\n",
    "* Si la columna marcada tiene una asignacion, marque la fila correspondiente\n",
    "* Trace lineas sobre las filas sin marca y las columnas marcadas"
   ]
  },
  {
   "cell_type": "code",
   "execution_count": null,
   "metadata": {},
   "outputs": [],
   "source": [
    "Pkg.add(\"Munkres\")"
   ]
  },
  {
   "cell_type": "code",
   "execution_count": 1,
   "metadata": {},
   "outputs": [
    {
     "data": {
      "text/plain": [
       "6×6 Array{Int64,2}:\n",
       " 13  18  12  20  13  13\n",
       " 18  17  12  19  17  16\n",
       " 16  14  12  17  15  19\n",
       " 18  14  12  13  15  12\n",
       " 19  20  16  19  20  19\n",
       " 22  23  17  24  28  25"
      ]
     },
     "execution_count": 1,
     "metadata": {},
     "output_type": "execute_result"
    }
   ],
   "source": [
    "a=[13\t18\t12\t20\t13\t13\n",
    "18\t17\t12\t19\t17\t16\n",
    "16\t14\t12\t17\t15\t19\n",
    "18\t14\t12\t13\t15\t12\n",
    "19\t20\t16\t19\t20\t19\n",
    "22\t23\t17\t24\t28\t25]"
   ]
  },
  {
   "cell_type": "code",
   "execution_count": 7,
   "metadata": {},
   "outputs": [
    {
     "name": "stdout",
     "output_type": "stream",
     "text": [
      "\u001b[32m\u001b[1m Resolving\u001b[22m\u001b[39m package versions...\n"
     ]
    },
    {
     "name": "stderr",
     "output_type": "stream",
     "text": [
      "WARNING: Base.Pkg is deprecated, run `using Pkg` instead\n",
      "  likely near /Users/marianacontrerasgamboa/.julia/packages/IJulia/DrVMH/src/kernel.jl:52\n"
     ]
    },
    {
     "name": "stdout",
     "output_type": "stream",
     "text": [
      "\u001b[32m\u001b[1m  Updating\u001b[22m\u001b[39m `~/.julia/environments/v0.7/Project.toml`\n",
      "\u001b[90m [no changes]\u001b[39m\n",
      "\u001b[32m\u001b[1m  Updating\u001b[22m\u001b[39m `~/.julia/environments/v0.7/Manifest.toml`\n",
      "\u001b[90m [no changes]\u001b[39m\n"
     ]
    }
   ],
   "source": [
    "Pkg.add(\"Hungarian\")"
   ]
  },
  {
   "cell_type": "code",
   "execution_count": 8,
   "metadata": {},
   "outputs": [
    {
     "name": "stderr",
     "output_type": "stream",
     "text": [
      "┌ Info: Precompiling Hungarian [e91730f6-4275-51fb-a7a0-7064cfbd3b39]\n",
      "└ @ Base loading.jl:1187\n"
     ]
    },
    {
     "data": {
      "text/plain": [
       "([5, 3, 2, 6, 4, 1], 92)"
      ]
     },
     "execution_count": 8,
     "metadata": {},
     "output_type": "execute_result"
    }
   ],
   "source": [
    "using Hungarian\n",
    "assignment, cost = hungarian(a)"
   ]
  }
 ],
 "metadata": {
  "kernelspec": {
   "display_name": "Julia 0.7.0",
   "language": "julia",
   "name": "julia-0.7"
  },
  "language_info": {
   "file_extension": ".jl",
   "mimetype": "application/julia",
   "name": "julia",
   "version": "0.7.0"
  },
  "latex_envs": {
   "LaTeX_envs_menu_present": true,
   "autocomplete": true,
   "bibliofile": "biblio.bib",
   "cite_by": "apalike",
   "current_citInitial": 1,
   "eqLabelWithNumbers": true,
   "eqNumInitial": 1,
   "hotkeys": {
    "equation": "Ctrl-E",
    "itemize": "Ctrl-I"
   },
   "labels_anchors": false,
   "latex_user_defs": false,
   "report_style_numbering": true,
   "user_envs_cfg": true
  }
 },
 "nbformat": 4,
 "nbformat_minor": 2
}
