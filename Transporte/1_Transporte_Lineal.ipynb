{
  "cells": [
    {
      "cell_type": "markdown",
      "metadata": {
        "id": "Q2gP047i6zhO"
      },
      "source": [
        "# 1. Problema de Transporte\n",
        "\n",
        "El objetivo del problema es minimizar el costo total de envío a todos los clientes de todas las fuentes.\n",
        "$$\n",
        "\\text { minimizar: } \\quad \\text { Costo }=\\sum_{c \\in \\text { Clientes }} \\sum_{s \\in \\text { Fuentes }} T[c, s] x[c, s]\n",
        "$$\n",
        "Los envíos de todas las fuentes no pueden exceder la capacidad de fabricación de la fuente.\n",
        "$$\n",
        "\\sum_{c \\in \\text { Customers }} x[c, s] \\leq \\text { Oferta }[s] \\quad \\forall s \\in \\text { Fuentes }\n",
        "$$\n",
        "Los envíos a cada cliente deben satisfacer su demanda.\n",
        "$$\n",
        "\\sum_{s \\in \\text { Fuentes }} x[c, s]=\\text { Demanda }[c] \\quad \\forall c \\in \\text { Clientes }\n",
        "$$"
      ]
    },
    {
      "cell_type": "markdown",
      "metadata": {
        "id": "WiqHBB_iIXUA"
      },
      "source": [
        "## Intalar pyomo\n",
        "```python\n",
        "pip install pyomo\n",
        "```"
      ]
    },
    {
      "cell_type": "code",
      "execution_count": 2,
      "metadata": {
        "id": "neGNxcWyIVeU"
      },
      "outputs": [
        {
          "name": "stdout",
          "output_type": "stream",
          "text": [
            "Collecting pyomo\n",
            "  Downloading Pyomo-6.7.1-cp38-cp38-macosx_10_9_x86_64.whl (5.6 MB)\n",
            "\u001b[K     |████████████████████████████████| 5.6 MB 9.4 MB/s eta 0:00:01\n",
            "\u001b[?25hCollecting ply\n",
            "  Using cached ply-3.11-py2.py3-none-any.whl (49 kB)\n",
            "Installing collected packages: ply, pyomo\n",
            "Successfully installed ply-3.11 pyomo-6.7.1\n",
            "Note: you may need to restart the kernel to use updated packages.\n"
          ]
        }
      ],
      "source": [
        "pip install pyomo"
      ]
    },
    {
      "cell_type": "markdown",
      "metadata": {
        "id": "R1buMCdRI1mW"
      },
      "source": [
        "## Paso 2 - Intalar el solver\n",
        "```\n",
        "!apt-get install -y -qq coinor-cbc\n",
        "```\n"
      ]
    },
    {
      "cell_type": "code",
      "execution_count": 13,
      "metadata": {
        "id": "U7GS3hHeI-Yk"
      },
      "outputs": [
        {
          "name": "stdout",
          "output_type": "stream",
          "text": [
            "zsh:1: command not found: apt-get\n"
          ]
        }
      ],
      "source": [
        "!apt-get install -y -qq coinor-cbc"
      ]
    },
    {
      "cell_type": "markdown",
      "metadata": {
        "id": "V2_QC-NJJI-2"
      },
      "source": [
        "## Ahora escribimos nuestro programa en pyomo\n",
        "\n",
        "```\n",
        "import pandas\n",
        "from pyomo.environ import *\n",
        "df = pandas.read_excel('wl_data.xlsx', 'Hoja1', header=0, index_col=0)\n",
        "O = list(df.index.map(str))\n",
        "D = list(df.columns.map(str))\n",
        "d = {(r, c):df.at[r,c] for r in O for c in D}\n",
        "Demanda = {'Bucaramanga':125,    \n",
        "   'Cartagena':   175,        \n",
        "   'Buga':   225,        \n",
        "   'Pereira':   250}\n",
        "\n",
        "Oferta = {\n",
        "   'Bogota':   300,        \n",
        "   'Cali':   350,\n",
        "   'Medellin': 125\n",
        "}\n",
        "model = ConcreteModel()\n",
        "model.x = Var(O, D, domain = NonNegativeReals)\n",
        "model.obj = Objective(expr = sum(d[o,de]*model.x[o,de] for o in O for de in D),sense=minimize)\n",
        "\n",
        "model.o = ConstraintList()\n",
        "for o in O:\n",
        "    model.o.add(sum([model.x[o,de] for de in D]) == Oferta[o])\n",
        "\n",
        "model.de = ConstraintList()\n",
        "for de in D:\n",
        "    model.de.add(sum([model.x[o,de] for o in O]) == Demanda[de])\n",
        "    \n",
        "results = SolverFactory('cbc').solve(model).write()\n",
        "\n",
        "for c in O:\n",
        "    for s in D:\n",
        "        print(c, s, model.x[c,s]())\n",
        "```\n"
      ]
    },
    {
      "cell_type": "code",
      "execution_count": 14,
      "metadata": {
        "id": "EYf9i7vA64N-"
      },
      "outputs": [
        {
          "data": {
            "text/html": [
              "<div>\n",
              "<style scoped>\n",
              "    .dataframe tbody tr th:only-of-type {\n",
              "        vertical-align: middle;\n",
              "    }\n",
              "\n",
              "    .dataframe tbody tr th {\n",
              "        vertical-align: top;\n",
              "    }\n",
              "\n",
              "    .dataframe thead th {\n",
              "        text-align: right;\n",
              "    }\n",
              "</style>\n",
              "<table border=\"1\" class=\"dataframe\">\n",
              "  <thead>\n",
              "    <tr style=\"text-align: right;\">\n",
              "      <th></th>\n",
              "      <th>Bucaramanga</th>\n",
              "      <th>Cartagena</th>\n",
              "      <th>Buga</th>\n",
              "      <th>Pereira</th>\n",
              "    </tr>\n",
              "  </thead>\n",
              "  <tbody>\n",
              "    <tr>\n",
              "      <th>Bogota</th>\n",
              "      <td>1956</td>\n",
              "      <td>1606</td>\n",
              "      <td>1410</td>\n",
              "      <td>330</td>\n",
              "    </tr>\n",
              "    <tr>\n",
              "      <th>Cali</th>\n",
              "      <td>1096</td>\n",
              "      <td>1792</td>\n",
              "      <td>531</td>\n",
              "      <td>567</td>\n",
              "    </tr>\n",
              "    <tr>\n",
              "      <th>Medellin</th>\n",
              "      <td>485</td>\n",
              "      <td>2322</td>\n",
              "      <td>324</td>\n",
              "      <td>1236</td>\n",
              "    </tr>\n",
              "  </tbody>\n",
              "</table>\n",
              "</div>"
            ],
            "text/plain": [
              "          Bucaramanga  Cartagena  Buga  Pereira\n",
              "Bogota           1956       1606  1410      330\n",
              "Cali             1096       1792   531      567\n",
              "Medellin          485       2322   324     1236"
            ]
          },
          "execution_count": 14,
          "metadata": {},
          "output_type": "execute_result"
        }
      ],
      "source": [
        "import pandas as pd\n",
        "from pyomo.environ import *\n",
        "import os\n",
        "os.environ['NEOS_EMAIL'] = 'jorgei.romerog@utadeo.edu.co'\n",
        "\n",
        "costos=pd.read_excel('/Users/jorgeiv500/Dropbox/Mac/Documents/Logistica/Transporte/tl.xlsx','Hoja1',header=0,index_col=0)\n",
        "costos"
      ]
    },
    {
      "cell_type": "code",
      "execution_count": 15,
      "metadata": {
        "id": "VMXcmLEiKbVb"
      },
      "outputs": [
        {
          "name": "stdout",
          "output_type": "stream",
          "text": [
            "['Bogota', 'Cali', 'Medellin']\n",
            "['Bucaramanga', 'Cartagena', 'Buga', 'Pereira']\n"
          ]
        }
      ],
      "source": [
        "O=list(costos.index.map(str))\n",
        "print(O)\n",
        "D=list(costos.columns.map(str))\n",
        "print(D)"
      ]
    },
    {
      "cell_type": "code",
      "execution_count": 16,
      "metadata": {
        "id": "c2YGiOI4LMjO"
      },
      "outputs": [
        {
          "data": {
            "text/plain": [
              "{('Bogota', 'Bucaramanga'): 1956,\n",
              " ('Bogota', 'Cartagena'): 1606,\n",
              " ('Bogota', 'Buga'): 1410,\n",
              " ('Bogota', 'Pereira'): 330,\n",
              " ('Cali', 'Bucaramanga'): 1096,\n",
              " ('Cali', 'Cartagena'): 1792,\n",
              " ('Cali', 'Buga'): 531,\n",
              " ('Cali', 'Pereira'): 567,\n",
              " ('Medellin', 'Bucaramanga'): 485,\n",
              " ('Medellin', 'Cartagena'): 2322,\n",
              " ('Medellin', 'Buga'): 324,\n",
              " ('Medellin', 'Pereira'): 1236}"
            ]
          },
          "execution_count": 16,
          "metadata": {},
          "output_type": "execute_result"
        }
      ],
      "source": [
        "d = {(i,j):costos.at[i,j] for i in O for j in D}\n",
        "d"
      ]
    },
    {
      "cell_type": "code",
      "execution_count": 17,
      "metadata": {
        "id": "uEUXDWKnLx1_"
      },
      "outputs": [
        {
          "name": "stdout",
          "output_type": "stream",
          "text": [
            "{'Bucaramanga': 125, 'Cartagena': 175, 'Buga': 225, 'Pereira': 250}\n",
            "{'Bogota': 300, 'Cali': 350, 'Medellin': 125}\n"
          ]
        }
      ],
      "source": [
        "Demanda = {'Bucaramanga':125,'Cartagena': 175,'Buga': 225,'Pereira':   250}\n",
        "print(Demanda)\n",
        "Oferta = {'Bogota':300,'Cali':350,'Medellin': 125 }\n",
        "print(Oferta)"
      ]
    },
    {
      "cell_type": "code",
      "execution_count": 19,
      "metadata": {
        "id": "MzdzLBoCMZ8C"
      },
      "outputs": [
        {
          "name": "stdout",
          "output_type": "stream",
          "text": [
            "El minimo costo es =  566900.0\n",
            "Bogota Bucaramanga 0.0\n",
            "Bogota Cartagena 50.0\n",
            "Bogota Buga 0.0\n",
            "Bogota Pereira 250.0\n",
            "Cali Bucaramanga 0.0\n",
            "Cali Cartagena 125.0\n",
            "Cali Buga 225.0\n",
            "Cali Pereira 0.0\n",
            "Medellin Bucaramanga 125.0\n",
            "Medellin Cartagena 0.0\n",
            "Medellin Buga 0.0\n",
            "Medellin Pereira 0.0\n"
          ]
        }
      ],
      "source": [
        "transporte= ConcreteModel()\n",
        "transporte.x=Var(O,D,domain=NonNegativeReals)\n",
        "transporte.obj=Objective(expr=sum(d[i,j]*transporte.x[i,j] for i in O for j in D),sense=minimize)\n",
        "\n",
        "transporte.ro = ConstraintList() # restriccion oferta\n",
        "for i in O:\n",
        "  transporte.ro.add(sum([transporte.x[i,j] for j in D])==Oferta[i])\n",
        "\n",
        "transporte.rd = ConstraintList() # restriccion demanda\n",
        "for j in D:\n",
        "  transporte.rd.add(sum([transporte.x[i,j] for i in O])== Demanda[j])\n",
        "\n",
        "solver_manager = SolverManagerFactory('neos')\n",
        "resultados = solver_manager.solve(transporte, solver='cplex')\n",
        "\n",
        "minimo = transporte.obj()\n",
        "print('El minimo costo es = ', minimo)\n",
        "\n",
        "for i in O:\n",
        "  for j in D:\n",
        "    print(i,j,transporte.x[i,j]())"
      ]
    },
    {
      "cell_type": "code",
      "execution_count": null,
      "metadata": {
        "id": "4YRyW0DpBpjs"
      },
      "outputs": [],
      "source": []
    }
  ],
  "metadata": {
    "colab": {
      "private_outputs": true,
      "provenance": []
    },
    "kernelspec": {
      "display_name": "Python 3",
      "name": "python3"
    },
    "language_info": {
      "codemirror_mode": {
        "name": "ipython",
        "version": 3
      },
      "file_extension": ".py",
      "mimetype": "text/x-python",
      "name": "python",
      "nbconvert_exporter": "python",
      "pygments_lexer": "ipython3",
      "version": "3.8.13"
    }
  },
  "nbformat": 4,
  "nbformat_minor": 0
}
