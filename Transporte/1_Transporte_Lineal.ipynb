{
  "nbformat": 4,
  "nbformat_minor": 0,
  "metadata": {
    "colab": {
      "private_outputs": true,
      "provenance": []
    },
    "kernelspec": {
      "name": "python3",
      "display_name": "Python 3"
    },
    "language_info": {
      "name": "python"
    }
  },
  "cells": [
    {
      "cell_type": "markdown",
      "metadata": {
        "id": "Q2gP047i6zhO"
      },
      "source": [
        "# 1. Problema de Transporte\n",
        "\n",
        "El objetivo del problema es minimizar el costo total de envío a todos los clientes de todas las fuentes.\n",
        "$$\n",
        "\\text { minimizar: } \\quad \\text { Costo }=\\sum_{c \\in \\text { Clientes }} \\sum_{s \\in \\text { Fuentes }} T[c, s] x[c, s]\n",
        "$$\n",
        "Los envíos de todas las fuentes no pueden exceder la capacidad de fabricación de la fuente.\n",
        "$$\n",
        "\\sum_{c \\in \\text { Customers }} x[c, s] \\leq \\text { Oferta }[s] \\quad \\forall s \\in \\text { Fuentes }\n",
        "$$\n",
        "Los envíos a cada cliente deben satisfacer su demanda.\n",
        "$$\n",
        "\\sum_{s \\in \\text { Fuentes }} x[c, s]=\\text { Demanda }[c] \\quad \\forall c \\in \\text { Clientes }\n",
        "$$"
      ]
    },
    {
      "cell_type": "markdown",
      "metadata": {
        "id": "WiqHBB_iIXUA"
      },
      "source": [
        "## Intalar pyomo\n",
        "```python\n",
        "pip install pyomo\n",
        "```"
      ]
    },
    {
      "cell_type": "code",
      "metadata": {
        "id": "neGNxcWyIVeU"
      },
      "source": [
        "pip install pyomo"
      ],
      "execution_count": null,
      "outputs": []
    },
    {
      "cell_type": "markdown",
      "metadata": {
        "id": "R1buMCdRI1mW"
      },
      "source": [
        "## Paso 2 - Intalar el solver\n",
        "```\n",
        "!apt-get install -y -qq coinor-cbc\n",
        "```\n"
      ]
    },
    {
      "cell_type": "code",
      "metadata": {
        "id": "U7GS3hHeI-Yk"
      },
      "source": [
        "!apt-get install -y -qq coinor-cbc"
      ],
      "execution_count": null,
      "outputs": []
    },
    {
      "cell_type": "markdown",
      "metadata": {
        "id": "V2_QC-NJJI-2"
      },
      "source": [
        "## Ahora escribimos nuestro programa en pyomo\n",
        "\n",
        "```\n",
        "import pandas\n",
        "from pyomo.environ import *\n",
        "df = pandas.read_excel('wl_data.xlsx', 'Hoja1', header=0, index_col=0)\n",
        "O = list(df.index.map(str))\n",
        "D = list(df.columns.map(str))\n",
        "d = {(r, c):df.at[r,c] for r in O for c in D}\n",
        "Demanda = {'Bucaramanga':125,    \n",
        "   'Cartagena':   175,        \n",
        "   'Buga':   225,        \n",
        "   'Pereira':   250}\n",
        "\n",
        "Oferta = {\n",
        "   'Bogota':   300,        \n",
        "   'Cali':   350,\n",
        "   'Medellin': 125\n",
        "}\n",
        "model = ConcreteModel()\n",
        "model.x = Var(O, D, domain = NonNegativeReals)\n",
        "model.obj = Objective(expr = sum(d[o,de]*model.x[o,de] for o in O for de in D),sense=minimize)\n",
        "\n",
        "model.o = ConstraintList()\n",
        "for o in O:\n",
        "    model.o.add(sum([model.x[o,de] for de in D]) == Oferta[o])\n",
        "\n",
        "model.de = ConstraintList()\n",
        "for de in D:\n",
        "    model.de.add(sum([model.x[o,de] for o in O]) == Demanda[de])\n",
        "    \n",
        "results = SolverFactory('cbc').solve(model).write()\n",
        "\n",
        "for c in O:\n",
        "    for s in D:\n",
        "        print(c, s, model.x[c,s]())\n",
        "```\n"
      ]
    },
    {
      "cell_type": "code",
      "metadata": {
        "id": "EYf9i7vA64N-"
      },
      "source": [
        "import pandas as pd\n",
        "from pyomo.environ import *\n",
        "\n",
        "costos=pd.read_excel('tl.xlsx','Hoja1',header=0,index_col=0)\n",
        "costos"
      ],
      "execution_count": null,
      "outputs": []
    },
    {
      "cell_type": "code",
      "metadata": {
        "id": "VMXcmLEiKbVb"
      },
      "source": [
        "O=list(costos.index.map(str))\n",
        "print(O)\n",
        "D=list(costos.columns.map(str))\n",
        "print(D)"
      ],
      "execution_count": null,
      "outputs": []
    },
    {
      "cell_type": "code",
      "metadata": {
        "id": "c2YGiOI4LMjO"
      },
      "source": [
        "d = {(i,j):costos.at[i,j] for i in O for j in D}\n",
        "d"
      ],
      "execution_count": null,
      "outputs": []
    },
    {
      "cell_type": "code",
      "metadata": {
        "id": "uEUXDWKnLx1_"
      },
      "source": [
        "Demanda = {'Bucaramanga':125,'Cartagena': 175,'Buga': 225,'Pereira':   250}\n",
        "print(Demanda)\n",
        "Oferta = {'Bogota':300,'Cali':350,'Medellin': 125 }\n",
        "print(Oferta)"
      ],
      "execution_count": null,
      "outputs": []
    },
    {
      "cell_type": "code",
      "metadata": {
        "id": "MzdzLBoCMZ8C"
      },
      "source": [
        "transporte= ConcreteModel()\n",
        "transporte.x=Var(O,D,domain=NonNegativeReals)\n",
        "transporte.obj=Objective(expr=sum(d[i,j]*transporte.x[i,j] for i in O for j in D),sense=minimize)\n",
        "\n",
        "transporte.ro = ConstraintList() # restriccion oferta\n",
        "for i in O:\n",
        "  transporte.ro.add(sum([transporte.x[i,j] for j in D])==Oferta[i])\n",
        "\n",
        "transporte.rd = ConstraintList() # restriccion demanda\n",
        "for j in D:\n",
        "  transporte.rd.add(sum([transporte.x[i,j] for i in O])== Demanda[j])\n",
        "\n",
        "resultado= SolverFactory('cbc').solve(transporte).write()\n",
        "\n",
        "minimo = transporte.obj()\n",
        "print('El minimo costo es = ', minimo)\n",
        "\n",
        "for i in O:\n",
        "  for j in D:\n",
        "    print(i,j,transporte.x[i,j]())"
      ],
      "execution_count": null,
      "outputs": []
    },
    {
      "cell_type": "code",
      "metadata": {
        "id": "CeMU8va7NPTK"
      },
      "source": [
        "\n"
      ],
      "execution_count": null,
      "outputs": []
    },
    {
      "cell_type": "code",
      "metadata": {
        "id": "4YRyW0DpBpjs"
      },
      "source": [],
      "execution_count": null,
      "outputs": []
    }
  ]
}