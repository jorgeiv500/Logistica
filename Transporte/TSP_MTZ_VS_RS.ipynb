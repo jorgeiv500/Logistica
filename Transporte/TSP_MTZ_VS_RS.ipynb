{
  "nbformat": 4,
  "nbformat_minor": 0,
  "metadata": {
    "colab": {
      "provenance": []
    },
    "kernelspec": {
      "name": "python3",
      "display_name": "Python 3"
    },
    "language_info": {
      "name": "python"
    }
  },
  "cells": [
    {
      "cell_type": "markdown",
      "source": [
        "# 1. Asignacion lineal\n",
        "\n",
        "**Contexto del Problema:**\n",
        "\n",
        "Una empresa de distribución maneja productos que deben ser enviados desde sus almacenes hacia distintas tiendas en diferentes ciudades. La empresa busca minimizar los costos de transporte asegurando que cada tienda reciba los productos desde el almacén más cercano o más conveniente económicamente.\n",
        "\n",
        "Supongamos que la empresa tiene 3 almacenes (W1, W2, W3) y 4 tiendas (T1, T2, T3, T4). Los costos de transporte por unidad de producto de cada almacén a cada tienda son los siguientes:\n",
        "\n",
        "|   | T1 | T2 | T3 | T4 |\n",
        "|---|---|---|---|---|\n",
        "| W1 | 8 | 6 | 10 | 9 |\n",
        "| W2 | 9 | 12 | 13 | 7 |\n",
        "| W3 | 14 | 9 | 16 | 5 |\n",
        "\n",
        "Cada tienda tiene una demanda específica de unidades de producto, y cada almacén tiene una cantidad limitada de unidades disponibles para enviar. El objetivo es asignar de qué almacén debe surtirse cada tienda para minimizar el costo total de transporte, cumpliendo con las demandas de las tiendas y no excediendo la capacidad de los almacenes.\n",
        "\n",
        "**Formulación del Modelo de Asignación:**\n",
        "\n",
        "Definamos las variables y parámetros:\n",
        "\n",
        "- `x_ij`: número de unidades de productos enviadas del almacén i a la tienda j.\n",
        "- `c_ij`: costo de transporte por unidad del almacén i a la tienda j.\n",
        "- `d_j`: demanda de la tienda j.\n",
        "- `s_i`: suministro disponible en el almacén i.\n",
        "\n",
        "El modelo busca minimizar la función objetivo, que es el costo total de transporte:\n",
        "\n",
        "$ \\text{Minimizar} \\sum_{i,j} c_{ij} x_{ij} $\n",
        "\n",
        "Sujeto a las siguientes restricciones:\n",
        "\n",
        "1. **Satisfacción de la Demanda:** Cada tienda debe recibir su demanda exacta desde los almacenes.\n",
        "   $ \\sum_{i} x_{ij} = d_j \\quad \\forall j $\n",
        "\n",
        "2. **Restricciones de Suministro:** Cada almacén no puede enviar más productos de los que tiene disponibles.\n",
        "   $ \\sum_{j} x_{ij} \\leq s_i \\quad \\forall i $\n",
        "\n",
        "3. **No Negatividad y Enteros:** Las unidades enviadas deben ser números enteros y no pueden ser negativas.\n",
        "   $ x_{ij} \\geq 0 \\quad \\forall i,j $\n",
        "   Y, si se requiere que las asignaciones sean en unidades enteras, entonces:\n",
        "  $ x_{ij} \\in \\mathbb{Z}^+ \\cup \\{0\\} \\quad \\forall i,j $\n",
        "\n",
        "Este modelo de asignación ayudará a la empresa a determinar la manera más eficiente de distribuir sus productos desde los almacenes hasta las tiendas, optimizando los costos de transporte mientras se satisfacen las demandas de las tiendas y las limitaciones de suministro de los almacenes."
      ],
      "metadata": {
        "id": "QByNwsbuKv_X"
      }
    },
    {
      "cell_type": "code",
      "source": [
        "!pip install pyomo"
      ],
      "metadata": {
        "colab": {
          "base_uri": "https://localhost:8080/"
        },
        "id": "mXB9nrrgLjue",
        "outputId": "90a19e11-52e4-4bc9-828a-5e7a0ae5feec"
      },
      "execution_count": null,
      "outputs": [
        {
          "output_type": "stream",
          "name": "stdout",
          "text": [
            "Collecting pyomo\n",
            "  Downloading Pyomo-6.7.0-cp310-cp310-manylinux_2_17_x86_64.manylinux2014_x86_64.whl (12.5 MB)\n",
            "\u001b[2K     \u001b[90m━━━━━━━━━━━━━━━━━━━━━━━━━━━━━━━━━━━━━━━━\u001b[0m \u001b[32m12.5/12.5 MB\u001b[0m \u001b[31m37.3 MB/s\u001b[0m eta \u001b[36m0:00:00\u001b[0m\n",
            "\u001b[?25hCollecting ply (from pyomo)\n",
            "  Downloading ply-3.11-py2.py3-none-any.whl (49 kB)\n",
            "\u001b[2K     \u001b[90m━━━━━━━━━━━━━━━━━━━━━━━━━━━━━━━━━━━━━━━━\u001b[0m \u001b[32m49.6/49.6 kB\u001b[0m \u001b[31m3.3 MB/s\u001b[0m eta \u001b[36m0:00:00\u001b[0m\n",
            "\u001b[?25hInstalling collected packages: ply, pyomo\n",
            "Successfully installed ply-3.11 pyomo-6.7.0\n"
          ]
        }
      ]
    },
    {
      "cell_type": "code",
      "source": [
        "from pyomo.environ import *\n",
        "import os\n",
        "\n",
        "# Definir almacenes y tiendas\n",
        "almacenes = ['W1', 'W2', 'W3']\n",
        "tiendas = ['T1', 'T2', 'T3', 'T4']\n",
        "\n",
        "# Costos de transporte por unidad desde cada almacén a cada tienda\n",
        "costos_transporte = {\n",
        "    ('W1', 'T1'): 8, ('W1', 'T2'): 6, ('W1', 'T3'): 10, ('W1', 'T4'): 9,\n",
        "    ('W2', 'T1'): 9, ('W2', 'T2'): 12, ('W2', 'T3'): 13, ('W2', 'T4'): 7,\n",
        "    ('W3', 'T1'): 14, ('W3', 'T2'): 9, ('W3', 'T3'): 16, ('W3', 'T4'): 5\n",
        "}\n",
        "\n",
        "# Demanda de cada tienda\n",
        "demanda = {'T1': 20, 'T2': 15, 'T3': 30, 'T4': 25}\n",
        "\n",
        "# Suministro disponible en cada almacén\n",
        "suministro = {'W1': 40, 'W2': 60, 'W3': 50}\n",
        "\n",
        "# Configurar el correo electrónico para NEOS\n",
        "os.environ['NEOS_EMAIL'] = 'jorgei.romerog@utadeo.edu.co'\n",
        "\n",
        "# Modelo\n",
        "modelo = ConcreteModel()\n",
        "\n",
        "# Variables de decisión: unidades enviadas desde almacén i a tienda j\n",
        "modelo.x = Var([(i, j) for i in almacenes for j in tiendas], domain=NonNegativeIntegers)\n",
        "\n",
        "# Función objetivo: Minimizar el costo total de transporte\n",
        "modelo.cost = Objective(expr=sum(costos_transporte[i, j] * modelo.x[i, j] for i in almacenes for j in tiendas), sense=minimize)\n",
        "\n",
        "# Restricciones de demanda\n",
        "modelo.demanda = ConstraintList()\n",
        "for j in tiendas:\n",
        "    modelo.demanda.add(sum(modelo.x[i, j] for i in almacenes) == demanda[j])\n",
        "\n",
        "# Restricciones de suministro\n",
        "modelo.suministro = ConstraintList()\n",
        "for i in almacenes:\n",
        "    modelo.suministro.add(sum(modelo.x[i, j] for j in tiendas) <= suministro[i])\n",
        "\n",
        "# Resolver el modelo usando NEOS\n",
        "solver_manager = SolverManagerFactory('neos')\n",
        "resultados = solver_manager.solve(modelo, opt='cplex')\n",
        "\n",
        "# Imprimir los resultados\n",
        "print(\"Costo total de transporte mínimo:\", modelo.cost())\n",
        "\n",
        "for i in almacenes:\n",
        "    for j in tiendas:\n",
        "        if modelo.x[i, j].value > 0:\n",
        "            print(f\"Del almacén {i} a la tienda {j}: {modelo.x[i, j].value} unidades\")\n"
      ],
      "metadata": {
        "colab": {
          "base_uri": "https://localhost:8080/"
        },
        "id": "470AiFYAK271",
        "outputId": "ea09510e-8a85-40b4-e7f8-2f1008f8989c"
      },
      "execution_count": null,
      "outputs": [
        {
          "output_type": "stream",
          "name": "stdout",
          "text": [
            "Costo total de transporte mínimo: 710.0\n",
            "Del almacén W1 a la tienda T2: 15.0 unidades\n",
            "Del almacén W1 a la tienda T3: 25.0 unidades\n",
            "Del almacén W2 a la tienda T1: 20.0 unidades\n",
            "Del almacén W2 a la tienda T3: 5.0 unidades\n",
            "Del almacén W3 a la tienda T4: 25.0 unidades\n"
          ]
        }
      ]
    },
    {
      "cell_type": "markdown",
      "source": [
        "# 2. TSP\n",
        "\n",
        "### **Problema: Optimización de la Ruta de Viaje Entre Ciudades**\n",
        "\n",
        "Consideramos un conjunto de cuatro ciudades etiquetadas como A, B, C, y D. Nos enfrentamos al desafío de planificar un viaje que comience en una ciudad de origen, visite cada una de las otras ciudades exactamente una vez y luego regrese a la ciudad de origen, minimizando el costo total del viaje. Los costos de viaje entre cada par de ciudades son simétricos y se presentan en la siguiente tabla:\n",
        "\n",
        "|   | A | B | C | D |\n",
        "|---|---|---|---|---|\n",
        "| A | - | 5 | 6 | 4 |\n",
        "| B | 5 | - | 3 | 2 |\n",
        "| C | 6 | 3 | - | 5 |\n",
        "| D | 4 | 2 | 5 | - |\n",
        "\n",
        "#### **Objetivo:**\n",
        "\n",
        "El objetivo es identificar la ruta más eficiente que cumpla con los requisitos anteriores, asegurando el menor costo de viaje total.\n",
        "\n",
        "#### **Formulación del Modelo MTZ:**\n",
        "\n",
        "Para abordar este problema, empleamos la formulación MTZ, una técnica de programación lineal entera que nos ayuda a encontrar la solución óptima. Definimos las siguientes variables y restricciones:\n",
        "\n",
        "- **Variables:**\n",
        "  - \\(x_{ij}\\): variable binaria que toma el valor de 1 si se decide viajar de la ciudad \\(i\\) a la ciudad \\(j\\), y 0 en caso contrario.\n",
        "  - \\(u_i\\): variable entera que representa el orden en el que se visita la ciudad \\(i\\), ayudando a evitar ciclos subóptimos o subtours.\n",
        "\n",
        "- **Restricciones:**\n",
        "  1. **Unicidad de Salida y Llegada:** Para asegurar que desde y hacia cada ciudad se viaje exactamente una vez, para todas las ciudades \\(i \\neq j\\):\n",
        "     \\[x_{ij} + x_{ji} = 1\\]\n",
        "  2. **Restricciones de MTZ para Evitar Subtours:** Estas restricciones aseguran que no se formen ciclos que no incluyan a todas las ciudades, facilitando la visita a cada ciudad una única vez antes de regresar a la ciudad de origen. Para cada par de ciudades \\(i\\) y \\(j\\), donde \\(i \\neq j\\) y \\(N\\) es el número total de ciudades:\n",
        "     \\[u_i - u_j + N \\cdot x_{ij} \\leq N-1\\]\n",
        "\n",
        "- **Dominio de las Variables:**\n",
        "  - Cada \\(u_i\\) debe ser un entero positivo dentro del conjunto \\(\\{1, 2, 3, \\ldots, N\\}\\).\n",
        "  - Cada \\(x_{ij}\\) es una variable binaria, es decir, \\(\\{0, 1\\}\\).\n",
        "\n",
        "#### **Solución:**\n",
        "\n",
        "La aplicación de este modelo nos permite calcular la ruta más corta que cumple con el requisito de visitar todas las ciudades una vez, optimizando el costo total del viaje. Utilizamos herramientas de programación lineal entera para resolver este modelo y obtener la ruta óptima.\n",
        "\n"
      ],
      "metadata": {
        "id": "feCANxLuedtR"
      }
    },
    {
      "cell_type": "code",
      "execution_count": null,
      "metadata": {
        "colab": {
          "base_uri": "https://localhost:8080/",
          "height": 516
        },
        "id": "zkwJJwygeJ9q",
        "outputId": "256c23df-4229-4bf4-94fa-2c12c0060776"
      },
      "outputs": [
        {
          "output_type": "display_data",
          "data": {
            "text/plain": [
              "<Figure size 640x480 with 1 Axes>"
            ],
            "image/png": "[encoded data removed]"
          },
          "metadata": {}
        }
      ],
      "source": [
        "import networkx as nx\n",
        "import matplotlib.pyplot as plt\n",
        "cities = ['A', 'B', 'C', 'D']\n",
        "distances = {\n",
        "    ('A', 'B'): 5, ('A', 'C'): 6, ('A', 'D'): 4,\n",
        "    ('B', 'A'): 5, ('B', 'C'): 3, ('B', 'D'): 2,\n",
        "    ('C', 'A'): 6, ('C', 'B'): 3, ('C', 'D'): 5,\n",
        "    ('D', 'A'): 4, ('D', 'B'): 2, ('D', 'C'): 5\n",
        "}\n",
        "\n",
        "G = nx.Graph()\n",
        "\n",
        "for city in cities:\n",
        "    G.add_node(city)\n",
        "\n",
        "\n",
        "for key, value in distances.items():\n",
        "    G.add_edge(key[0], key[1], weight=value)\n",
        "\n",
        "pos = nx.spring_layout(G)  # pos = nx.nx_agraph.graphviz_layout(G)\n",
        "edges = G.edges()\n",
        "weights = [G[u][v]['weight'] for u, v in edges]\n",
        "\n",
        "nx.draw(G, pos, with_labels=True, node_size=500, node_color=\"skyblue\", font_size=15, width=weights)\n",
        "nx.draw_networkx_edge_labels(G, pos, edge_labels=distances)\n",
        "\n",
        "plt.show()"
      ]
    },
    {
      "cell_type": "code",
      "source": [],
      "metadata": {
        "id": "ryPm22f2eSqC"
      },
      "execution_count": null,
      "outputs": []
    },
    {
      "cell_type": "code",
      "execution_count": null,
      "metadata": {
        "colab": {
          "base_uri": "https://localhost:8080/",
          "height": 516
        },
        "outputId": "19374e91-a0f8-4ae4-e58f-80f3d0a78534",
        "id": "bpvv61-yhVfp"
      },
      "outputs": [
        {
          "output_type": "display_data",
          "data": {
            "text/plain": [
              "<Figure size 640x480 with 1 Axes>"
            ],
            "image/png": "[encoded data removed]"
          },
          "metadata": {}
        }
      ],
      "source": [
        "import networkx as nx\n",
        "import matplotlib.pyplot as plt\n",
        "cities = ['A', 'B', 'C', 'D']\n",
        "distances = {\n",
        "    ('A', 'B'): 5, ('A', 'C'): 6, ('A', 'D'): 4,\n",
        "    ('B', 'A'): 5, ('B', 'C'): 3, ('B', 'D'): 2,\n",
        "    ('C', 'A'): 6, ('C', 'B'): 3, ('C', 'D'): 5,\n",
        "    ('D', 'A'): 4, ('D', 'B'): 2, ('D', 'C'): 5\n",
        "}\n",
        "\n",
        "G = nx.Graph()\n",
        "\n",
        "for city in cities:\n",
        "    G.add_node(city)\n",
        "\n",
        "\n",
        "for key, value in distances.items():\n",
        "    G.add_edge(key[0], key[1], weight=value)\n",
        "\n",
        "pos = nx.spring_layout(G)  # pos = nx.nx_agraph.graphviz_layout(G)\n",
        "edges = G.edges()\n",
        "weights = [G[u][v]['weight'] for u, v in edges]\n",
        "\n",
        "nx.draw(G, pos, with_labels=True, node_size=500, node_color=\"skyblue\", font_size=15, width=weights)\n",
        "nx.draw_networkx_edge_labels(G, pos, edge_labels=distances)\n",
        "\n",
        "plt.show()"
      ]
    },
    {
      "cell_type": "code",
      "source": [
        "cities = ['A', 'B', 'C', 'D']\n",
        "distances = {\n",
        "    ('A', 'B'): 5, ('A', 'C'): 6, ('A', 'D'): 4,\n",
        "    ('B', 'A'): 5, ('B', 'C'): 3, ('B', 'D'): 2,\n",
        "    ('C', 'A'): 6, ('C', 'B'): 3, ('C', 'D'): 5,\n",
        "    ('D', 'A'): 4, ('D', 'B'): 2, ('D', 'C'): 5,\n",
        "    ('A', 'A'): 1000, ('B', 'B'): 1000, ('C', 'C'): 1000,('D', 'D'): 1000\n",
        "}"
      ],
      "metadata": {
        "id": "c0ocMKuVhXO3"
      },
      "execution_count": null,
      "outputs": []
    },
    {
      "cell_type": "code",
      "source": [
        "!pip install pyomo"
      ],
      "metadata": {
        "colab": {
          "base_uri": "https://localhost:8080/"
        },
        "id": "SgKVLArchZdN",
        "outputId": "9d6ae0c2-0411-436b-a86a-36b941631894"
      },
      "execution_count": null,
      "outputs": [
        {
          "output_type": "stream",
          "name": "stdout",
          "text": [
            "Collecting pyomo\n",
            "  Downloading Pyomo-6.6.1-cp310-cp310-manylinux_2_17_x86_64.manylinux2014_x86_64.whl (11.9 MB)\n",
            "\u001b[2K     \u001b[90m━━━━━━━━━━━━━━━━━━━━━━━━━━━━━━━━━━━━━━━━\u001b[0m \u001b[32m11.9/11.9 MB\u001b[0m \u001b[31m83.9 MB/s\u001b[0m eta \u001b[36m0:00:00\u001b[0m\n",
            "\u001b[?25hCollecting ply (from pyomo)\n",
            "  Downloading ply-3.11-py2.py3-none-any.whl (49 kB)\n",
            "\u001b[2K     \u001b[90m━━━━━━━━━━━━━━━━━━━━━━━━━━━━━━━━━━━━━━━━\u001b[0m \u001b[32m49.6/49.6 kB\u001b[0m \u001b[31m5.0 MB/s\u001b[0m eta \u001b[36m0:00:00\u001b[0m\n",
            "\u001b[?25hInstalling collected packages: ply, pyomo\n",
            "Successfully installed ply-3.11 pyomo-6.6.1\n"
          ]
        }
      ]
    },
    {
      "cell_type": "code",
      "source": [
        "from pyomo.environ import *\n",
        "import os\n",
        "cities = ['A', 'B', 'C', 'D']\n",
        "distances = {\n",
        "    ('A', 'B'): 5, ('A', 'C'): 6, ('A', 'D'): 4,\n",
        "    ('B', 'A'): 5, ('B', 'C'): 3, ('B', 'D'): 2,\n",
        "    ('C', 'A'): 6, ('C', 'B'): 3, ('C', 'D'): 5,\n",
        "    ('D', 'A'): 4, ('D', 'B'): 2, ('D', 'C'): 5,\n",
        "    ('A', 'A'): 1000, ('B', 'B'): 1000, ('C', 'C'): 1000,('D', 'D'): 1000\n",
        "}\n",
        "os.environ['NEOS_EMAIL']='jorgei.romerog@utadeo.edu.co'\n",
        "mtz=ConcreteModel()\n",
        "i=cities\n",
        "j=cities\n",
        "U=i[1:]\n",
        "d=distances\n",
        "mtz.x=Var(i,j,domain=Binary)\n",
        "mtz.u=Var(U,domain=NonNegativeIntegers)\n",
        "mtz.obj=Objective(expr=sum(d[m,n]*mtz.x[m,n] for m in i for n in j),sense=minimize)\n",
        "mtz.fila=ConstraintList()\n",
        "for m in i:\n",
        "  mtz.fila.add(sum(mtz.x[m,n] for n in j)==1)\n",
        "mtz.columna=ConstraintList()\n",
        "for n in j:\n",
        "  mtz.columna.add(sum(mtz.x[m,n] for m in i )==1)\n",
        "#restriccion mtz ui-uj + n*xij <=n-1 i,j!=1\n",
        "mtz.subtour=ConstraintList()\n",
        "for m in U:\n",
        "  for n in U:\n",
        "    mtz.subtour.add(mtz.u[m]-mtz.u[n]+4*mtz.x[m,n]<=3)\n",
        "\n",
        "solver_manager=SolverManagerFactory('neos')\n",
        "resultados=solver_manager.solve(mtz,solver='cplex')\n",
        "\n",
        "print(\"la minima distancia es\", mtz.obj())\n",
        "\n",
        "for m in i:\n",
        "  for n in j:\n",
        "        if mtz.x[m,n].value == 1:\n",
        "          print(m,n,mtz.x[m,n]())"
      ],
      "metadata": {
        "colab": {
          "base_uri": "https://localhost:8080/"
        },
        "id": "LriOJ94ThoQi",
        "outputId": "228a223f-5dc2-4da1-9bf2-c1399fce6636"
      },
      "execution_count": null,
      "outputs": [
        {
          "output_type": "stream",
          "name": "stdout",
          "text": [
            "la minima distancia es 15.0\n",
            "A C 1.0\n",
            "B D 1.0\n",
            "C B 1.0\n",
            "D A 1.0\n"
          ]
        }
      ]
    },
    {
      "cell_type": "code",
      "source": [
        "from pyomo.environ import *\n",
        "import os\n",
        "cities = ['A', 'B', 'C', 'D']\n",
        "distances = {\n",
        "    ('A', 'B'): 5, ('A', 'C'): 6, ('A', 'D'): 4,\n",
        "    ('B', 'A'): 5, ('B', 'C'): 3, ('B', 'D'): 2,\n",
        "    ('C', 'A'): 6, ('C', 'B'): 3, ('C', 'D'): 5,\n",
        "    ('D', 'A'): 4, ('D', 'B'): 2, ('D', 'C'): 5,\n",
        "    ('A', 'A'): 1000, ('B', 'B'): 1000, ('C', 'C'): 1000,('D', 'D'): 1000\n",
        "}\n",
        "os.environ['NEOS_EMAIL']='jorgei.romerog@utadeo.edu.co'\n",
        "mtz=ConcreteModel()\n",
        "i=cities\n",
        "j=cities\n",
        "U=i[1:]\n",
        "d=distances\n",
        "mtz.x=Var(i,j,domain=Binary)\n",
        "mtz.u=Var(U,domain=NonNegativeIntegers)\n",
        "mtz.obj=Objective(expr=sum(d[m,n]*mtz.x[m,n] for m in i for n in j),sense=minimize)\n",
        "mtz.fila=ConstraintList()\n",
        "for m in i:\n",
        "  mtz.fila.add(sum(mtz.x[m,n] for n in j)==1)\n",
        "mtz.columna=ConstraintList()\n",
        "for n in j:\n",
        "  mtz.columna.add(sum(mtz.x[m,n] for m in i )==1)\n",
        "#restriccion mtz ui-uj + n*xij <=n-1 i,j!=1\n",
        "mtz.subtour=ConstraintList()\n",
        "for m in U:\n",
        "  for n in U:\n",
        "    mtz.subtour.add(mtz.u[m]-mtz.u[n]+4*mtz.x[m,n]<=3)\n",
        "\n",
        "solver_manager=SolverManagerFactory('neos')\n",
        "resultados=solver_manager.solve(mtz,solver='cplex')\n",
        "\n",
        "print(\"la minima distancia es\", mtz.obj())\n",
        "\n",
        "for m in i:\n",
        "  for n in j:\n",
        "          print(m,n,mtz.x[m,n]())"
      ],
      "metadata": {
        "colab": {
          "base_uri": "https://localhost:8080/"
        },
        "id": "ETY7Fshcj2jr",
        "outputId": "0d6a162c-6e5f-4e81-c19c-d901149a1daa"
      },
      "execution_count": null,
      "outputs": [
        {
          "output_type": "stream",
          "name": "stdout",
          "text": [
            "la minima distancia es 15.0\n",
            "A A 0.0\n",
            "A B 0.0\n",
            "A C 1.0\n",
            "A D 0.0\n",
            "B A 0.0\n",
            "B B 0.0\n",
            "B C 0.0\n",
            "B D 1.0\n",
            "C A 0.0\n",
            "C B 1.0\n",
            "C C 0.0\n",
            "C D 0.0\n",
            "D A 1.0\n",
            "D B 0.0\n",
            "D C 0.0\n",
            "D D 0.0\n"
          ]
        }
      ]
    },
    {
      "cell_type": "code",
      "source": [
        "from pyomo.environ import *\n",
        "import os\n",
        "\n",
        "cities = ['A', 'B', 'C', 'D']\n",
        "distances = {\n",
        "    ('A', 'B'): 5, ('A', 'C'): 6, ('A', 'D'): 4,\n",
        "    ('B', 'A'): 5, ('B', 'C'): 3, ('B', 'D'): 2,\n",
        "    ('C', 'A'): 6, ('C', 'B'): 3, ('C', 'D'): 5,\n",
        "    ('D', 'A'): 4, ('D', 'B'): 2, ('D', 'C'): 5,\n",
        "    ('A', 'A'): 1000, ('B', 'B'): 1000, ('C', 'C'): 1000,('D', 'D'): 1000\n",
        "}\n",
        "\n",
        "os.environ['NEOS_EMAIL'] = 'jorgei.romerog@utadeo.edu.co'\n",
        "\n",
        "mtz = ConcreteModel()\n",
        "i = cities\n",
        "j = cities\n",
        "U = i[1:]\n",
        "d = distances\n",
        "\n",
        "mtz.x = Var(i, j, domain=Binary)\n",
        "mtz.u = Var(U, domain=NonNegativeIntegers)\n",
        "mtz.obj = Objective(expr=sum(d[m, n] * mtz.x[m, n] for m in i for n in j), sense=minimize)\n",
        "mtz.fila = ConstraintList()\n",
        "for m in i:\n",
        "    mtz.fila.add(sum(mtz.x[m, n] for n in j) == 1)\n",
        "mtz.columna = ConstraintList()\n",
        "for n in j:\n",
        "    mtz.columna.add(sum(mtz.x[m, n] for m in i) == 1)\n",
        "\n",
        "# Restriccion mtz ui-uj + n*xij <=n-1 i,j!=1\n",
        "mtz.subtour = ConstraintList()\n",
        "for m in U:\n",
        "    for n in U:\n",
        "        mtz.subtour.add(mtz.u[m] - mtz.u[n] + 4 * mtz.x[m, n] <= 3)\n",
        "\n",
        "solver_manager = SolverManagerFactory('neos')\n",
        "resultados = solver_manager.solve(mtz, solver='cplex')\n",
        "\n",
        "print(\"La mínima distancia es\", mtz.obj())\n",
        "\n",
        "ruta = []\n",
        "current_city = 'A'  # Inicia en la ciudad 'A'\n",
        "\n",
        "while True:\n",
        "    ruta.append(current_city)\n",
        "    for n in j:\n",
        "        if mtz.x[current_city, n].value == 1:\n",
        "            distancia = distances[(current_city, n)]\n",
        "            current_city = n\n",
        "            break\n",
        "    if current_city == 'A':\n",
        "        break\n",
        "\n",
        "ruta.append('A')  # Agrega la ciudad 'A' al final de la ruta\n",
        "\n",
        "print(\"Ruta secuencial:\", ' -> '.join(ruta))\n"
      ],
      "metadata": {
        "colab": {
          "base_uri": "https://localhost:8080/"
        },
        "id": "mhEPvEV4Pf8q",
        "outputId": "3e8e3909-2106-4099-9d8c-d1bd1ee2f11d"
      },
      "execution_count": null,
      "outputs": [
        {
          "output_type": "stream",
          "name": "stdout",
          "text": [
            "La mínima distancia es 15.0\n",
            "Ruta secuencial: A -> C -> B -> D -> A\n"
          ]
        }
      ]
    },
    {
      "cell_type": "code",
      "source": [
        "from pyomo.environ import *\n",
        "import os\n",
        "\n",
        "cities = ['A', 'B', 'C', 'D']\n",
        "distances = {\n",
        "    ('A', 'B'): 5, ('A', 'C'): 6, ('A', 'D'): 4,\n",
        "    ('B', 'A'): 5, ('B', 'C'): 3, ('B', 'D'): 2,\n",
        "    ('C', 'A'): 6, ('C', 'B'): 3, ('C', 'D'): 5,\n",
        "    ('D', 'A'): 4, ('D', 'B'): 2, ('D', 'C'): 5,\n",
        "    ('A', 'A'): 1000, ('B', 'B'): 1000, ('C', 'C'): 1000,('D', 'D'): 1000\n",
        "}\n",
        "\n",
        "os.environ['NEOS_EMAIL'] = 'jorgei.romerog@utadeo.edu.co'\n",
        "\n",
        "mtz = ConcreteModel()\n",
        "i = cities\n",
        "j = cities\n",
        "U = i[1:]\n",
        "d = distances\n",
        "\n",
        "mtz.x = Var(i, j, domain=Binary)\n",
        "mtz.u = Var(U, domain=NonNegativeIntegers)\n",
        "mtz.obj = Objective(expr=sum(d[m, n] * mtz.x[m, n] for m in i for n in j), sense=minimize)\n",
        "mtz.fila = ConstraintList()\n",
        "for m in i:\n",
        "    mtz.fila.add(sum(mtz.x[m, n] for n in j) == 1)\n",
        "mtz.columna = ConstraintList()\n",
        "for n in j:\n",
        "    mtz.columna.add(sum(mtz.x[m, n] for m in i) == 1)\n",
        "\n",
        "# Restriccion mtz ui-uj + n*xij <=n-1 i,j!=1\n",
        "mtz.subtour = ConstraintList()\n",
        "for m in U:\n",
        "    for n in U:\n",
        "        mtz.subtour.add(mtz.u[m] - mtz.u[n] + 4 * mtz.x[m, n] <= 3)\n",
        "\n",
        "solver_manager = SolverManagerFactory('neos')\n",
        "resultados = solver_manager.solve(mtz, solver='cplex')\n",
        "\n",
        "print(\"La mínima distancia es\", mtz.obj())\n",
        "\n",
        "ruta = []\n",
        "current_city = 'A'  # Inicia en la ciudad 'A'\n",
        "total_distance = 0\n",
        "\n",
        "while True:\n",
        "    ruta.append(current_city)\n",
        "    for n in j:\n",
        "        if mtz.x[current_city, n].value == 1:\n",
        "            distancia = distances[(current_city, n)]\n",
        "            total_distance += distancia\n",
        "            current_city = n\n",
        "            break\n",
        "    if current_city == 'A':\n",
        "        break\n",
        "\n",
        "ruta.append('A')  # Agrega la ciudad 'A' al final de la ruta\n",
        "ruta_distance = [distances[(ruta[i], ruta[i+1])] for i in range(len(ruta)-1)]  # Distancias entre ciudades\n",
        "\n",
        "print(\"Ruta secuencial:\", ' -> '.join(ruta))\n",
        "print(\"Distancias recorridas:\", ruta_distance)\n",
        "print(\"Distancia total:\", total_distance)\n"
      ],
      "metadata": {
        "colab": {
          "base_uri": "https://localhost:8080/"
        },
        "id": "V_uMweEpP1A8",
        "outputId": "83559546-a87f-48c5-c25b-11a6cee114f9"
      },
      "execution_count": null,
      "outputs": [
        {
          "output_type": "stream",
          "name": "stdout",
          "text": [
            "La mínima distancia es 15.0\n",
            "Ruta secuencial: A -> C -> B -> D -> A\n",
            "Distancias recorridas: [6, 3, 2, 4]\n",
            "Distancia total: 15\n"
          ]
        }
      ]
    },
    {
      "cell_type": "code",
      "source": [
        "from simanneal import Annealer\n",
        "\n",
        "import random\n",
        "\n",
        "import math\n",
        "\n",
        "\n",
        "\n",
        "\n",
        "# Datos del problema\n",
        "\n",
        "distances = {\n",
        "\n",
        "    ('A', 'B'): 5, ('A', 'C'): 6, ('A', 'D'): 4,\n",
        "\n",
        "    ('B', 'A'): 5, ('B', 'C'): 3, ('B', 'D'): 2,\n",
        "\n",
        "    ('C', 'A'): 6, ('C', 'B'): 3, ('C', 'D'): 5,\n",
        "\n",
        "    ('D', 'A'): 4, ('D', 'B'): 2, ('D', 'C'): 5\n",
        "\n",
        "}\n",
        "\n",
        "\n",
        "\n",
        "\n",
        "# Definición de la clase\n",
        "\n",
        "class TSPProblem(Annealer):\n",
        "\n",
        "\n",
        "\n",
        "\n",
        "    def move(self):\n",
        "\n",
        "        \"\"\"Intercambia dos ciudades en la ruta.\"\"\"\n",
        "\n",
        "        a = random.randint(0, len(self.state) - 1)\n",
        "\n",
        "        b = random.randint(0, len(self.state) - 1)\n",
        "\n",
        "        self.state[a], self.state[b] = self.state[b], self.state[a]\n",
        "\n",
        "\n",
        "\n",
        "\n",
        "    def energy(self):\n",
        "\n",
        "        \"\"\"Calcula la longitud total de la ruta.\"\"\"\n",
        "\n",
        "        e = 0\n",
        "\n",
        "        for i in range(len(self.state)):\n",
        "\n",
        "            e += distances[(self.state[i-1], self.state[i])]\n",
        "\n",
        "        return e\n",
        "\n",
        "\n",
        "# Crear el problema e inicializar el estado\n",
        "\n",
        "init_state = list('ABCD')\n",
        "\n",
        "random.shuffle(init_state)\n",
        "\n",
        "problem = TSPProblem(init_state)\n",
        "\n",
        "# Intentar resolver el problema mediante recocido simulado\n",
        "\n",
        "problem.set_schedule(problem.auto(minutes=1)) # set the schedule (temperature)\n",
        "state, e = problem.anneal()\n",
        "\n",
        "# Imprimir la solución\n",
        "\n",
        "print(\"%s: %i\" % (state, e))\n"
      ],
      "metadata": {
        "colab": {
          "base_uri": "https://localhost:8080/"
        },
        "id": "toJaH77npsPS",
        "outputId": "20409609-7b5c-4e40-a295-2281cd641670"
      },
      "execution_count": null,
      "outputs": [
        {
          "output_type": "stream",
          "name": "stderr",
          "text": [
            " Temperature        Energy    Accept   Improve     Elapsed   Remaining\n",
            " Temperature        Energy    Accept   Improve     Elapsed   Remaining\n"
          ]
        },
        {
          "output_type": "stream",
          "name": "stdout",
          "text": [
            "['D', 'B', 'C', 'A']: 15\n"
          ]
        }
      ]
    },
    {
      "cell_type": "code",
      "source": [],
      "metadata": {
        "id": "yw9ETaHhrsLj"
      },
      "execution_count": null,
      "outputs": []
    }
  ]
}