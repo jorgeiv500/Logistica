{
  "nbformat": 4,
  "nbformat_minor": 0,
  "metadata": {
    "colab": {
      "private_outputs": true,
      "provenance": []
    },
    "kernelspec": {
      "name": "python3",
      "display_name": "Python 3"
    },
    "language_info": {
      "name": "python"
    }
  },
  "cells": [
    {
      "cell_type": "markdown",
      "metadata": {
        "id": "5MqFaQ_1jy8v"
      },
      "source": [
        "# CONTENIDO\n",
        "\n",
        "1.   Representacion grafica de un sistema de inventarios en Python\n",
        "2.   Inventarios EOQ\n",
        "3.   Inventarios News Vendor\n",
        "4.   Inventarios QR\n",
        "5.   Inventarios Wagner Whithin\n",
        "\n",
        "\n",
        "\n"
      ]
    },
    {
      "cell_type": "markdown",
      "metadata": {
        "id": "h5iEBTdejLQE"
      },
      "source": [
        "<h1><center>Logistica</center></h1>\n",
        "\n",
        "\n",
        "<h2><center>Jorge Ivan Romero</center></h2>\n",
        "<h3><center>Inventarios aplicados con Python</center></h3>\n",
        "<center><img src=\"https://upload.wikimedia.org/wikipedia/commons/thumb/c/c3/Python-logo-notext.svg/2048px-Python-logo-notext.svg.png\"     \n",
        "width=\"100\" height=\"100\" /></center>\n",
        "<h4><center>UDES</center></h4>\n",
        "<p><center>Ingenieria Industrial</center></p>\n",
        "<p><center>08/04/2022</center></p>"
      ]
    },
    {
      "cell_type": "markdown",
      "metadata": {
        "id": "CtaWncY-kkSI"
      },
      "source": [
        "## 1.   Representacion grafica de un sistema de inventarios en Python\n"
      ]
    },
    {
      "cell_type": "code",
      "metadata": {
        "id": "L9bSVcNMmG96"
      },
      "source": [
        "class almacen:\n",
        "  def __init__(self, nivel_inventario):\n",
        "    self.i = nivel_inventario\n",
        "    self.revisa_inventario(0)\n",
        "  def orden(self, Q, tiempo):\n",
        "    self.revisa_inventario(tiempo)\n",
        "    self.i += Q\n",
        "    self.revisa_inventario(tiempo) # las ordenes son recibidas al iniciar cada periodo\n",
        "  def disponible(self):\n",
        "    return max(0, self.i)\n",
        "  def emision(self, demanda, tiempo):\n",
        "    self.revisa_inventario(tiempo)\n",
        "    self.i = self.i-demanda\n",
        "    self.revisa_inventario(tiempo+1) # la demanda se realiza al final de un período\n",
        "  def revisa_inventario(self, tiempo):\n",
        "    try:\n",
        "      self.niveles.append([tiempo, self.i])\n",
        "      self.en_mano.append([tiempo, self.disponible()])\n",
        "    except AttributeError:\n",
        "      self.niveles, self.en_mano = [[0, self.i]], [[0, self.disponible()]]"
      ],
      "execution_count": null,
      "outputs": []
    },
    {
      "cell_type": "code",
      "metadata": {
        "id": "o43kMHfbh-dY"
      },
      "source": [
        "import matplotlib.pyplot as plt\n",
        "import numpy as np\n",
        "import pandas as pd\n",
        "def grafica_inventario(valores, etiqueta):\n",
        "  df=pd.DataFrame({'x':np.array(valores)[:,0], 'fx':np.array(valores)[:,1]})\n",
        "# grafique\n",
        "  plt.xticks(range(len(valores)),range(1,len(valores)+1))\n",
        "  plt.xlabel(\"$t$\")\n",
        "  plt.ylabel(\"items\")\n",
        "  plt.plot( 'x', 'fx', data=df,linestyle='-', marker='v',label=etiqueta)\n"
      ],
      "execution_count": null,
      "outputs": []
    },
    {
      "cell_type": "markdown",
      "metadata": {
        "id": "kvFHugZmmnLG"
      },
      "source": [
        "Simulamos las operaciones de este sencillo sistema de inventario aprovechando el código Python en el Listado 2 y el Listado 3. El inventario inicial del almacén es de 100 unidades. La tasa de demanda del cliente es de 5 unidades por período. Simulamos N = 20 períodos. El sistema comienza con 100 unidades de inventario al comienzo del período 1; Se consumen 5 unidades de inventario en cada período; al final del período 20 (o de manera equivalente, al comienzo del período 21), el nivel de inventario del sistema es 0."
      ]
    },
    {
      "cell_type": "code",
      "metadata": {
        "id": "QhEuMmn6J1gJ"
      },
      "source": [
        "inicial=100\n",
        "dep=almacen(inicial)\n",
        "demanda=5\n",
        "N=40\n",
        "for t in range(N):\n",
        "  if(t==20):\n",
        "    dep.orden(100,t)\n",
        "  dep.emision(demanda,t)\n",
        "grafica_inventario(dep.niveles,\"nivel de inventario\")\n",
        "plt.legend()\n",
        "plt.show()"
      ],
      "execution_count": null,
      "outputs": []
    },
    {
      "cell_type": "code",
      "metadata": {
        "id": "Ykn_8KouLPA6"
      },
      "source": [
        "inv=100\n",
        "dep=almacen(inv)\n",
        "demanda=100/6\n",
        "N=12\n",
        "for t in range(N):\n",
        "  if(t==6):\n",
        "    dep.orden(100,t)\n",
        "  dep.emision(demanda,t)\n",
        "grafica_inventario(dep.niveles,\"nivel de inventario\")\n",
        "plt.xlabel(\"$t$ periodos de 6 meses\")\n",
        "plt.axhline(60,color='r',label='reorden',linestyle='--')\n",
        "plt.legend()\n",
        "plt.show()"
      ],
      "execution_count": null,
      "outputs": []
    },
    {
      "cell_type": "markdown",
      "metadata": {
        "id": "Re805ViiOObC"
      },
      "source": [
        "# Funciones para EOQ\n",
        "## Decisiones de cantidad\n",
        "$Q^{*}=\\sqrt{\\frac{2AD}{h}}$\n",
        "\n",
        "$t^{*}=\\frac{Q^{*}}{D}$"
      ]
    },
    {
      "cell_type": "code",
      "metadata": {
        "id": "WaU-h4smOL4Q"
      },
      "source": [
        "from math import sqrt\n",
        "def eoq(a:float,d:float,h:float):\n",
        "  q=sqrt(2*a*d/h)\n",
        "  return q\n",
        "def tiempo(q:float,d:float):\n",
        "  t=q/d\n",
        "  return t\n"
      ],
      "execution_count": null,
      "outputs": []
    },
    {
      "cell_type": "markdown",
      "metadata": {
        "id": "7rLB0zMbyo2U"
      },
      "source": [
        "**Ejemplo 1**\n",
        "\n",
        "La demanda semanal de un producto es de 1000 unidades y los artículos se retiran a una tasa constante. El costo de colocar una orden para reabastecer el inventario es de 40 dólares. El costo unitario por artículo es de 5 dólares y el costo de mantener un inventario es de $0.10 por artículo por semana.\n"
      ]
    },
    {
      "cell_type": "code",
      "metadata": {
        "id": "J3GSaaUJPs-Q"
      },
      "source": [
        "d=1000 # demanda semanal\n",
        "a=40 # dolares por pedido\n",
        "c=5 # dolares por articulo\n",
        "h=0.10 # dolares por unidad por semana\n",
        "q=eoq(a,d,h)\n",
        "t=tiempo(q,d)\n",
        "print('El pedido debe ser de =',q,'unidades cada',t,'semanas')\n",
        "inicial=0\n",
        "dep=almacen(inicial)\n",
        "demanda=d*t\n",
        "N=8\n",
        "for t in range(N):\n",
        "  dep.orden(q,t)\n",
        "  dep.emision(demanda,t)\n",
        "grafica_inventario(dep.niveles,\"nivel de inventario\")\n",
        "plt.xlabel(\"$t$ corresponde a un periodo de 0.89 semanas\")\n",
        "plt.axvline(1.11,color='r',label='semana 1',linestyle='--')\n",
        "plt.axvline(2.22,color='g',label='semana 2',linestyle='--')\n",
        "plt.axvline(3.33,color='y',label='semana 3',linestyle='--')\n",
        "plt.axvline(4.44,color='m',label='semana 4',linestyle='--')\n",
        "plt.legend()\n",
        "plt.show"
      ],
      "execution_count": null,
      "outputs": []
    },
    {
      "cell_type": "markdown",
      "metadata": {
        "id": "ckCMuXjAUCpL"
      },
      "source": [
        "# EOQ con faltantes\n",
        "\n",
        "CEP con faltantes $Q^{*}=\\sqrt{\\frac{2AD}{h}}*\\sqrt{\\frac{p+h}{p}}$\n",
        "\n",
        "Inv despues de pedido $S^{*}=\\sqrt{\\frac{2AD}{h}}*\\sqrt{\\frac{p}{p+h}}$\n",
        "\n",
        "Maximo faltante permitido = $Q^{*}-S^{*}$\n",
        "\n",
        "**Ejemplo 2**\n",
        "La demanda semanal de un producto es de 1000 unidades y los artículos se retiran a una tasa constante. El costo de colocar una orden para reabastecer el inventario es de 40 dólares. El costo unitario por artículo es de 5 dólares y el costo de mantener un inventario es de $0.10 por artículo por semana.\n",
        "Si se permiten faltantes semanales de 3 dólares por artículo, determine cuándo y cuánto debe ordenarse."
      ]
    },
    {
      "cell_type": "code",
      "metadata": {
        "id": "3kqOfMdzWhvt"
      },
      "source": [
        "d=1000.0\n",
        "a=40.0\n",
        "h=0.10\n",
        "p=3.0\n",
        "q=eoqf(a,d,h,p)\n",
        "t=tiempo(q,d)\n",
        "se=s(a,d,h,p)\n",
        "mf=mfp(se,q)\n",
        "print('Se deben ordenar',q,'unidades')\n",
        "print('Se ordena cada',t,'semanas')\n",
        "print('El faltante permitido es=',mf,'unidades')\n",
        "print('Nos queda',se,'unidades')\n",
        "inv=0\n",
        "al=almacen(inv)\n",
        "N=8\n",
        "demanda=t*d\n",
        "for t in range(N):\n",
        "  al.orden(q,t)\n",
        "  al.emision(demanda,t)\n",
        "grafica_inventario(al.niveles,\"nivel de inventario\")\n",
        "plt.axhline(se,color='r',label='inventario despues de entregar faltante',linestyle='--')\n",
        "plt.legend()\n",
        "plt.axvline(1.09,color='g',linestyle='-')\n",
        "plt.axvline(2.18,color='g',linestyle='-')\n",
        "plt.axvline(3.27,color='g',linestyle='-')\n",
        "plt.axvline(4.36,color='g',linestyle='-')\n",
        "plt.show()"
      ],
      "execution_count": null,
      "outputs": []
    },
    {
      "cell_type": "code",
      "metadata": {
        "id": "xgkY5AQiaEkh"
      },
      "source": [],
      "execution_count": null,
      "outputs": []
    },
    {
      "cell_type": "code",
      "metadata": {
        "id": "Bp9shTqdSsKe"
      },
      "source": [
        "from math import sqrt\n",
        "def eoqf(a:float,d:float,h:float,p:float):\n",
        "  q=sqrt(2*a*d/h)*sqrt((p+h)/p)\n",
        "  return q\n",
        "def s(a:float,d:float,h:float,p:float):\n",
        "  s=sqrt(2*a*d/h)*sqrt(p/(p+h))\n",
        "  return s\n",
        "def mfp(s:float,q:float):\n",
        "  mf=q-s\n",
        "  return mf"
      ],
      "execution_count": null,
      "outputs": []
    },
    {
      "cell_type": "code",
      "metadata": {
        "id": "cgl9a01kWebP"
      },
      "source": [],
      "execution_count": null,
      "outputs": []
    },
    {
      "cell_type": "code",
      "metadata": {
        "id": "csSuoyOVg25j"
      },
      "source": [
        "inventario_inicial = 100\n",
        "w = almacen(inventario_inicial)\n",
        "demanda = 5 # tasa de demanda del cliente para un periodo\n",
        "N = 20 # horizonte de planeacion\n",
        "for t in range(N):\n",
        "  w.emision(demanda, t)\n",
        "grafica_inventario(w.niveles, \"nivel de inventario\")\n",
        "plt.legend()\n",
        "plt.show()"
      ],
      "execution_count": null,
      "outputs": []
    },
    {
      "cell_type": "code",
      "metadata": {
        "id": "ldT-2XF-hCxq"
      },
      "source": [
        "inventario_inicial = 100\n",
        "w = almacen(inventario_inicial)\n",
        "demanda = 5 #\n",
        "N = 20\n",
        "for t in range(N):\n",
        "  if(t == 10):\n",
        "    w.orden(50, t) # colocamos una orden de 50 unidadesen el periodo 10\n",
        "  w.emision(demanda, t)\n",
        "grafica_inventario(w.niveles, \"nivel de inventario\")\n",
        "plt.legend()\n",
        "plt.show()"
      ],
      "execution_count": null,
      "outputs": []
    },
    {
      "cell_type": "code",
      "metadata": {
        "id": "FD9iPrfsnN35"
      },
      "source": [
        "inventario_inicial = 0\n",
        "w = almacen(inventario_inicial)\n",
        "demanda = 5 #\n",
        "N = 20\n",
        "for t in range(N):\n",
        "  w.orden(5, t)\n",
        "  w.emision(demanda, t)\n",
        "grafica_inventario(w.niveles, \"nivel de inventario\")\n",
        "plt.legend()\n",
        "plt.show()"
      ],
      "execution_count": null,
      "outputs": []
    },
    {
      "cell_type": "markdown",
      "metadata": {
        "id": "CQeALpobVtpw"
      },
      "source": [
        "# News Vendor"
      ]
    },
    {
      "cell_type": "code",
      "metadata": {
        "id": "2eJb3uKCVSv9"
      },
      "source": [
        "import scipy.integrate as integrate\n",
        "from scipy.stats import norm\n",
        "from scipy.optimize import minimize\n",
        "class Newsvendor:\n",
        "  def __init__(self, instance):\n",
        "    self.mean, self.std, self.o, self.u = instance[\"promedio\"], instance[\"std\"],instance[\"co\"], instance[\"cu\"]\n",
        "  def crit_frac_solution(self):\n",
        "    return norm.ppf(self.u/(self.o+self.u), loc=self.mean, scale=self.std)\n",
        "  def cfolf(self,Q): # función complementaria de pérdida de primer orden\n",
        "    return integrate.quad(lambda x: norm.cdf(x, loc=self.mean, scale=self.std), 0,Q)[0]\n",
        "  def C(self,Q): # C(Q)\n",
        "    return (self.o+self.u)*self.cfolf(Q)-self.u*(Q - self.mean)\n",
        "  def optC(self): # min C(Q)\n",
        "    return minimize(self.C, 0, method='Nelder-Mead')"
      ],
      "execution_count": null,
      "outputs": []
    },
    {
      "cell_type": "code",
      "metadata": {
        "id": "rMxl2awretuv"
      },
      "source": [
        "mac={\"co\":15,\"cu\":50,\"promedio\":11.73,\"std\":4.74}\n",
        "nv=Newsvendor(mac)\n",
        "print(\"Q^*=\"+str(nv.crit_frac_solution()))\n",
        "print(\"El costo es=\"+str(nv.C(nv.crit_frac_solution())))"
      ],
      "execution_count": null,
      "outputs": []
    },
    {
      "cell_type": "code",
      "metadata": {
        "id": "KdwKkUReVsTz"
      },
      "source": [
        "inv=0\n",
        "alm=almacen(inv)\n",
        "q=15.22\n",
        "d=11.73\n",
        "N=6\n",
        "for t in range(N):\n",
        "  alm.orden(q,t)\n",
        "  alm.emision(d,t)\n",
        "grafica_inventario(alm.niveles,'nivel de inventario')\n",
        "plt.legend()\n",
        "plt.show()"
      ],
      "execution_count": null,
      "outputs": []
    },
    {
      "cell_type": "code",
      "metadata": {
        "id": "T4GxXrVPiY8y"
      },
      "source": [
        "import numpy as np\n",
        "inv=0\n",
        "alm=almacen(inv)\n",
        "q=15.22\n",
        "N=6\n",
        "for t in range(N):\n",
        "  alm.orden(q,t)\n",
        "  de=np.random.normal(11.74, 4.74, 1)\n",
        "  alm.emision(de,t)\n",
        "grafica_inventario(alm.niveles,'nivel de inventario')\n",
        "plt.legend()\n",
        "plt.show()"
      ],
      "execution_count": null,
      "outputs": []
    },
    {
      "cell_type": "markdown",
      "metadata": {
        "id": "0xBWYBvcZbWa"
      },
      "source": [
        "# EOQ"
      ]
    },
    {
      "cell_type": "code",
      "metadata": {
        "id": "t3aNtnF6YLUD"
      },
      "source": [],
      "execution_count": null,
      "outputs": []
    },
    {
      "cell_type": "code",
      "metadata": {
        "id": "B5hXJRzIYn_1"
      },
      "source": [],
      "execution_count": null,
      "outputs": []
    },
    {
      "cell_type": "code",
      "metadata": {
        "id": "vobGF3Trcti4"
      },
      "source": [],
      "execution_count": null,
      "outputs": []
    },
    {
      "cell_type": "code",
      "metadata": {
        "id": "AvAuuza2aEcV"
      },
      "source": [],
      "execution_count": null,
      "outputs": []
    },
    {
      "cell_type": "code",
      "metadata": {
        "id": "EEQH1SR6bm9f"
      },
      "source": [],
      "execution_count": null,
      "outputs": []
    }
  ]
}